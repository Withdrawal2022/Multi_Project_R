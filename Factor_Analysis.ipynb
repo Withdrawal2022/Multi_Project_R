{
 "cells": [
  {
   "attachments": {},
   "cell_type": "markdown",
   "id": "25570cd1",
   "metadata": {},
   "source": [
    "# Factor Analysis"
   ]
  },
  {
   "attachments": {},
   "cell_type": "markdown",
   "id": "80349afc",
   "metadata": {},
   "source": [
    "## 导入数据"
   ]
  },
  {
   "cell_type": "code",
   "execution_count": 2,
   "id": "3609c3b4",
   "metadata": {},
   "outputs": [
    {
     "data": {
      "text/html": [
       "<div>\n",
       "<style scoped>\n",
       "    .dataframe tbody tr th:only-of-type {\n",
       "        vertical-align: middle;\n",
       "    }\n",
       "\n",
       "    .dataframe tbody tr th {\n",
       "        vertical-align: top;\n",
       "    }\n",
       "\n",
       "    .dataframe thead th {\n",
       "        text-align: right;\n",
       "    }\n",
       "</style>\n",
       "<table border=\"1\" class=\"dataframe\">\n",
       "  <thead>\n",
       "    <tr style=\"text-align: right;\">\n",
       "      <th></th>\n",
       "      <th>score scaled</th>\n",
       "      <th>Rank</th>\n",
       "      <th>institution</th>\n",
       "      <th>ar score</th>\n",
       "      <th>er score</th>\n",
       "      <th>fsr score</th>\n",
       "      <th>cpf score</th>\n",
       "      <th>ifr score</th>\n",
       "      <th>isr score</th>\n",
       "    </tr>\n",
       "  </thead>\n",
       "  <tbody>\n",
       "    <tr>\n",
       "      <th>0</th>\n",
       "      <td>100</td>\n",
       "      <td>1</td>\n",
       "      <td>Massachusetts Institute of Technology (MIT)</td>\n",
       "      <td>100.0</td>\n",
       "      <td>100.0</td>\n",
       "      <td>100.0</td>\n",
       "      <td>100.0</td>\n",
       "      <td>100.0</td>\n",
       "      <td>90.0</td>\n",
       "    </tr>\n",
       "    <tr>\n",
       "      <th>1</th>\n",
       "      <td>98.8</td>\n",
       "      <td>2</td>\n",
       "      <td>University of Cambridge</td>\n",
       "      <td>100.0</td>\n",
       "      <td>100.0</td>\n",
       "      <td>100.0</td>\n",
       "      <td>92.3</td>\n",
       "      <td>100.0</td>\n",
       "      <td>96.3</td>\n",
       "    </tr>\n",
       "    <tr>\n",
       "      <th>2</th>\n",
       "      <td>98.5</td>\n",
       "      <td>3</td>\n",
       "      <td>Stanford University</td>\n",
       "      <td>100.0</td>\n",
       "      <td>100.0</td>\n",
       "      <td>100.0</td>\n",
       "      <td>99.9</td>\n",
       "      <td>99.8</td>\n",
       "      <td>60.3</td>\n",
       "    </tr>\n",
       "    <tr>\n",
       "      <th>3</th>\n",
       "      <td>98.4</td>\n",
       "      <td>4</td>\n",
       "      <td>University of Oxford</td>\n",
       "      <td>100.0</td>\n",
       "      <td>100.0</td>\n",
       "      <td>100.0</td>\n",
       "      <td>90.0</td>\n",
       "      <td>98.8</td>\n",
       "      <td>98.4</td>\n",
       "    </tr>\n",
       "    <tr>\n",
       "      <th>4</th>\n",
       "      <td>97.6</td>\n",
       "      <td>5</td>\n",
       "      <td>Harvard University</td>\n",
       "      <td>100.0</td>\n",
       "      <td>100.0</td>\n",
       "      <td>99.4</td>\n",
       "      <td>100.0</td>\n",
       "      <td>76.9</td>\n",
       "      <td>66.9</td>\n",
       "    </tr>\n",
       "  </tbody>\n",
       "</table>\n",
       "</div>"
      ],
      "text/plain": [
       "  score scaled  Rank                                   institution  ar score  \\\n",
       "0          100     1  Massachusetts Institute of Technology (MIT)      100.0   \n",
       "1         98.8     2                       University of Cambridge     100.0   \n",
       "2         98.5     3                           Stanford University     100.0   \n",
       "3         98.4     4                          University of Oxford     100.0   \n",
       "4         97.6     5                            Harvard University     100.0   \n",
       "\n",
       "   er score  fsr score  cpf score  ifr score  isr score  \n",
       "0     100.0      100.0      100.0      100.0       90.0  \n",
       "1     100.0      100.0       92.3      100.0       96.3  \n",
       "2     100.0      100.0       99.9       99.8       60.3  \n",
       "3     100.0      100.0       90.0       98.8       98.4  \n",
       "4     100.0       99.4      100.0       76.9       66.9  "
      ]
     },
     "execution_count": 2,
     "metadata": {},
     "output_type": "execute_result"
    }
   ],
   "source": [
    "import pandas as pd\n",
    "import numpy as np\n",
    "data = pd.read_csv('data/2023 QS World University Rankings.csv')\n",
    "\n",
    "first_two_columns = data.iloc[:240,:2]\n",
    "other_we_want = data.iloc[:240,4:15:2]\n",
    "last_column = data.iloc[:240,-1]\n",
    "data_used = pd.concat([last_column, first_two_columns,other_we_want],axis=1)\n",
    "\n",
    "data_used.head()"
   ]
  },
  {
   "attachments": {},
   "cell_type": "markdown",
   "id": "00ffd89b",
   "metadata": {},
   "source": [
    "## 数据预处理"
   ]
  },
  {
   "cell_type": "code",
   "execution_count": 3,
   "id": "b68636e2",
   "metadata": {},
   "outputs": [
    {
     "data": {
      "text/html": [
       "<div>\n",
       "<style scoped>\n",
       "    .dataframe tbody tr th:only-of-type {\n",
       "        vertical-align: middle;\n",
       "    }\n",
       "\n",
       "    .dataframe tbody tr th {\n",
       "        vertical-align: top;\n",
       "    }\n",
       "\n",
       "    .dataframe thead th {\n",
       "        text-align: right;\n",
       "    }\n",
       "</style>\n",
       "<table border=\"1\" class=\"dataframe\">\n",
       "  <thead>\n",
       "    <tr style=\"text-align: right;\">\n",
       "      <th></th>\n",
       "      <th>ar score</th>\n",
       "      <th>er score</th>\n",
       "      <th>fsr score</th>\n",
       "      <th>cpf score</th>\n",
       "      <th>ifr score</th>\n",
       "      <th>isr score</th>\n",
       "    </tr>\n",
       "  </thead>\n",
       "  <tbody>\n",
       "    <tr>\n",
       "      <th>0</th>\n",
       "      <td>1.590269</td>\n",
       "      <td>1.477666</td>\n",
       "      <td>1.447563</td>\n",
       "      <td>1.415771</td>\n",
       "      <td>1.065306</td>\n",
       "      <td>1.083970</td>\n",
       "    </tr>\n",
       "    <tr>\n",
       "      <th>1</th>\n",
       "      <td>1.590269</td>\n",
       "      <td>1.477666</td>\n",
       "      <td>1.447563</td>\n",
       "      <td>1.138985</td>\n",
       "      <td>1.065306</td>\n",
       "      <td>1.277161</td>\n",
       "    </tr>\n",
       "    <tr>\n",
       "      <th>2</th>\n",
       "      <td>1.590269</td>\n",
       "      <td>1.477666</td>\n",
       "      <td>1.447563</td>\n",
       "      <td>1.412176</td>\n",
       "      <td>1.059243</td>\n",
       "      <td>0.173208</td>\n",
       "    </tr>\n",
       "    <tr>\n",
       "      <th>3</th>\n",
       "      <td>1.590269</td>\n",
       "      <td>1.477666</td>\n",
       "      <td>1.447563</td>\n",
       "      <td>1.056309</td>\n",
       "      <td>1.028931</td>\n",
       "      <td>1.341559</td>\n",
       "    </tr>\n",
       "    <tr>\n",
       "      <th>4</th>\n",
       "      <td>1.590269</td>\n",
       "      <td>1.477666</td>\n",
       "      <td>1.428576</td>\n",
       "      <td>1.415771</td>\n",
       "      <td>0.365096</td>\n",
       "      <td>0.375600</td>\n",
       "    </tr>\n",
       "  </tbody>\n",
       "</table>\n",
       "</div>"
      ],
      "text/plain": [
       "   ar score  er score  fsr score  cpf score  ifr score  isr score\n",
       "0  1.590269  1.477666   1.447563   1.415771   1.065306   1.083970\n",
       "1  1.590269  1.477666   1.447563   1.138985   1.065306   1.277161\n",
       "2  1.590269  1.477666   1.447563   1.412176   1.059243   0.173208\n",
       "3  1.590269  1.477666   1.447563   1.056309   1.028931   1.341559\n",
       "4  1.590269  1.477666   1.428576   1.415771   0.365096   0.375600"
      ]
     },
     "execution_count": 3,
     "metadata": {},
     "output_type": "execute_result"
    }
   ],
   "source": [
    "import numpy as np\n",
    "from sklearn.preprocessing import StandardScaler\n",
    "standardized = StandardScaler().fit_transform(data_used.iloc[:,3:])\n",
    "\n",
    "standardized_df = pd.DataFrame(standardized,columns=data_used.columns[3:])\n",
    "standardized_df.head()\n",
    "# indices = np.where(data_used.isnull())\n",
    "# # 输出缺失值的坐标\n",
    "# for row, col in zip(indices[0], indices[1]):\n",
    "#     print(f\"缺失值的坐标：行 {row}，列 {col}\")"
   ]
  },
  {
   "attachments": {},
   "cell_type": "markdown",
   "id": "3dd4297a",
   "metadata": {},
   "source": [
    "## 检验数据\n",
    "bartlett检验，因为小于0.05，所以说明变量之间存在相关性，所以适合做因子分析"
   ]
  },
  {
   "cell_type": "code",
   "execution_count": 4,
   "id": "87c0884f",
   "metadata": {},
   "outputs": [
    {
     "data": {
      "text/plain": [
       "(374.89713014177653, 1.2851838434169066e-70)"
      ]
     },
     "execution_count": 4,
     "metadata": {},
     "output_type": "execute_result"
    }
   ],
   "source": [
    "from factor_analyzer.factor_analyzer import calculate_bartlett_sphericity\n",
    "chi_square_value, p_value = calculate_bartlett_sphericity(standardized_df)\n",
    "chi_square_value, p_value"
   ]
  },
  {
   "cell_type": "code",
   "execution_count": 5,
   "id": "4bd57839",
   "metadata": {},
   "outputs": [
    {
     "data": {
      "text/plain": [
       "0.5296452879715545"
      ]
     },
     "execution_count": 5,
     "metadata": {},
     "output_type": "execute_result"
    }
   ],
   "source": [
    "#KMO检验\n",
    "from factor_analyzer.factor_analyzer import calculate_kmo\n",
    "kmo_all,kmo_model=calculate_kmo(standardized_df)\n",
    "kmo_model"
   ]
  },
  {
   "cell_type": "code",
   "execution_count": 6,
   "id": "65e9f9e4",
   "metadata": {},
   "outputs": [
    {
     "data": {
      "text/plain": [
       "(array([1.93347604, 1.74562516, 0.99457125, 0.75606888, 0.31236672,\n",
       "        0.25789196]),\n",
       " array([1.81660512, 1.62400965, 0.9689425 , 0.72626654, 0.17419752,\n",
       "        0.11971999]))"
      ]
     },
     "execution_count": 6,
     "metadata": {},
     "output_type": "execute_result"
    }
   ],
   "source": [
    "from factor_analyzer import FactorAnalyzer\n",
    "fa = FactorAnalyzer(4, method = \"principal\", rotation=\"varimax\")\n",
    "\n",
    "fa.fit(standardized_df)\n",
    "\n",
    "# 得到original eigenvalues和common factor eigenvalues\n",
    "ev,v=fa.get_eigenvalues()\n",
    "ev,v"
   ]
  },
  {
   "attachments": {},
   "cell_type": "markdown",
   "id": "aadc0d90",
   "metadata": {},
   "source": [
    "## 选择合适的因子个数"
   ]
  },
  {
   "cell_type": "code",
   "execution_count": 7,
   "id": "68835caf",
   "metadata": {},
   "outputs": [
    {
     "data": {
      "image/png": "[encoded data removed]",
      "text/plain": [
       "<Figure size 640x480 with 1 Axes>"
      ]
     },
     "metadata": {},
     "output_type": "display_data"
    }
   ],
   "source": [
    "import matplotlib.pyplot as plt\n",
    "# 同样的数据绘制散点图和折线图\n",
    "plt.scatter(range(1, standardized_df.shape[1] + 1), ev)\n",
    "plt.plot(range(1, standardized_df.shape[1] + 1), ev)\n",
    " \n",
    "# 显示图的标题和xy轴的名字\n",
    "\n",
    "plt.title(\"Scree Plot\")  \n",
    "plt.xlabel(\"Factors\")\n",
    "plt.ylabel(\"Eigenvalue\")\n",
    " \n",
    "plt.grid()  # 显示网格\n",
    "plt.show()  # 显示图形"
   ]
  },
  {
   "attachments": {},
   "cell_type": "markdown",
   "id": "1e00719e",
   "metadata": {},
   "source": [
    "## 实验结果"
   ]
  },
  {
   "attachments": {},
   "cell_type": "markdown",
   "id": "3ab724de",
   "metadata": {},
   "source": [
    "### 载荷矩阵"
   ]
  },
  {
   "cell_type": "code",
   "execution_count": 8,
   "id": "1644df42",
   "metadata": {},
   "outputs": [
    {
     "data": {
      "text/plain": [
       "array([[-0.02092651,  0.90998171,  0.07087065,  0.12672711],\n",
       "       [ 0.05932603,  0.92250019,  0.0623015 , -0.07100248],\n",
       "       [ 0.00178266,  0.09941939,  0.99327555, -0.0582102 ],\n",
       "       [ 0.19017568,  0.04654115, -0.06109442,  0.97305026],\n",
       "       [ 0.89346106, -0.13401802, -0.02635109,  0.19686469],\n",
       "       [ 0.91582137,  0.17221854,  0.02646946,  0.05629123]])"
      ]
     },
     "execution_count": 8,
     "metadata": {},
     "output_type": "execute_result"
    }
   ],
   "source": [
    "fa.loadings_"
   ]
  },
  {
   "attachments": {},
   "cell_type": "markdown",
   "id": "ee0d7d7f",
   "metadata": {},
   "source": [
    "### communalities - 所有因子对$x_i$的影响"
   ]
  },
  {
   "cell_type": "code",
   "execution_count": 9,
   "id": "9e628012",
   "metadata": {},
   "outputs": [
    {
     "data": {
      "text/plain": [
       "array([0.84958703, 0.86344902, 0.99987215, 0.9888922 , 0.85568358,\n",
       "       0.87225734])"
      ]
     },
     "execution_count": 9,
     "metadata": {},
     "output_type": "execute_result"
    }
   ],
   "source": [
    "fa.get_communalities()"
   ]
  },
  {
   "attachments": {},
   "cell_type": "markdown",
   "id": "688f92a8",
   "metadata": {},
   "source": [
    "### factor_variance - 一个因子解释的方差百分比"
   ]
  },
  {
   "cell_type": "code",
   "execution_count": 10,
   "id": "69092a43",
   "metadata": {},
   "outputs": [
    {
     "data": {
      "text/plain": [
       "(array([1.67712891, 1.73874366, 1.00062799, 1.01324075]),\n",
       " array([0.27952149, 0.28979061, 0.16677133, 0.16887346]),\n",
       " array([0.27952149, 0.5693121 , 0.73608343, 0.90495689]))"
      ]
     },
     "execution_count": 10,
     "metadata": {},
     "output_type": "execute_result"
    }
   ],
   "source": [
    "fa.get_factor_variance()"
   ]
  },
  {
   "attachments": {},
   "cell_type": "markdown",
   "id": "971978b4",
   "metadata": {},
   "source": [
    "### 可视化结果"
   ]
  },
  {
   "cell_type": "code",
   "execution_count": 11,
   "id": "3e643630",
   "metadata": {},
   "outputs": [
    {
     "data": {
      "text/plain": [
       "Text(120.72222222222221, 0.5, 'Sepal Width')"
      ]
     },
     "execution_count": 11,
     "metadata": {},
     "output_type": "execute_result"
    },
    {
     "data": {
      "image/png": "[encoded data removed]",
      "text/plain": [
       "<Figure size 1200x1000 with 2 Axes>"
      ]
     },
     "metadata": {},
     "output_type": "display_data"
    }
   ],
   "source": [
    "import seaborn as sns\n",
    "df_cm = pd.DataFrame(np.abs(fa.loadings_),index=standardized_df.columns)\n",
    "\n",
    "fig,ax = plt.subplots(figsize=(12,10))\n",
    "sns.heatmap(df_cm,annot=True,cmap='BuPu',ax=ax)\n",
    "# 设置y轴字体的大小\n",
    "ax.tick_params(axis='x',labelsize=15)\n",
    "ax.set_title(\"Factor Analysis\",fontsize=12)\n",
    "ax.set_ylabel(\"Sepal Width\")"
   ]
  },
  {
   "attachments": {},
   "cell_type": "markdown",
   "id": "7d598e7a",
   "metadata": {},
   "source": [
    "### 得分"
   ]
  },
  {
   "cell_type": "code",
   "execution_count": 12,
   "id": "7903098b",
   "metadata": {},
   "outputs": [
    {
     "data": {
      "text/plain": [
       "array([0.30887823, 0.32022587, 0.18428649, 0.1866094 ])"
      ]
     },
     "execution_count": 12,
     "metadata": {},
     "output_type": "execute_result"
    }
   ],
   "source": [
    "## 输出因子的weight\n",
    "factor_weight = np.sum(np.square(fa.loadings_), axis=0)/np.sum(np.sum(np.square(fa.loadings_), axis=0))\n",
    "factor_weight"
   ]
  },
  {
   "cell_type": "code",
   "execution_count": 13,
   "id": "5867ed36",
   "metadata": {},
   "outputs": [
    {
     "data": {
      "text/plain": [
       "array([1.27200512, 1.26196396, 1.11532535, 1.25532307, 1.05584366])"
      ]
     },
     "execution_count": 13,
     "metadata": {},
     "output_type": "execute_result"
    }
   ],
   "source": [
    "scores = fa.transform(standardized_df)@factor_weight\n",
    "scores[:5]"
   ]
  },
  {
   "attachments": {},
   "cell_type": "markdown",
   "id": "fce3c2d4",
   "metadata": {},
   "source": [
    "### 排名"
   ]
  },
  {
   "cell_type": "code",
   "execution_count": 14,
   "id": "f0144544",
   "metadata": {},
   "outputs": [
    {
     "name": "stdout",
     "output_type": "stream",
     "text": [
      "New Scores    41.8\n",
      "dtype: float64\n"
     ]
    },
    {
     "data": {
      "text/html": [
       "<div>\n",
       "<style scoped>\n",
       "    .dataframe tbody tr th:only-of-type {\n",
       "        vertical-align: middle;\n",
       "    }\n",
       "\n",
       "    .dataframe tbody tr th {\n",
       "        vertical-align: top;\n",
       "    }\n",
       "\n",
       "    .dataframe thead th {\n",
       "        text-align: right;\n",
       "    }\n",
       "</style>\n",
       "<table border=\"1\" class=\"dataframe\">\n",
       "  <thead>\n",
       "    <tr style=\"text-align: right;\">\n",
       "      <th></th>\n",
       "      <th>institution</th>\n",
       "      <th>score scaled</th>\n",
       "      <th>Original Rank</th>\n",
       "      <th>New Scores</th>\n",
       "      <th>New Rank</th>\n",
       "    </tr>\n",
       "  </thead>\n",
       "  <tbody>\n",
       "    <tr>\n",
       "      <th>0</th>\n",
       "      <td>Massachusetts Institute of Technology (MIT)</td>\n",
       "      <td>100</td>\n",
       "      <td>1</td>\n",
       "      <td>100.0</td>\n",
       "      <td>1</td>\n",
       "    </tr>\n",
       "    <tr>\n",
       "      <th>1</th>\n",
       "      <td>University of Cambridge</td>\n",
       "      <td>98.8</td>\n",
       "      <td>2</td>\n",
       "      <td>99.5</td>\n",
       "      <td>2</td>\n",
       "    </tr>\n",
       "    <tr>\n",
       "      <th>2</th>\n",
       "      <td>Stanford University</td>\n",
       "      <td>98.5</td>\n",
       "      <td>3</td>\n",
       "      <td>92.8</td>\n",
       "      <td>7</td>\n",
       "    </tr>\n",
       "    <tr>\n",
       "      <th>3</th>\n",
       "      <td>University of Oxford</td>\n",
       "      <td>98.4</td>\n",
       "      <td>4</td>\n",
       "      <td>99.2</td>\n",
       "      <td>3</td>\n",
       "    </tr>\n",
       "    <tr>\n",
       "      <th>4</th>\n",
       "      <td>Harvard University</td>\n",
       "      <td>97.6</td>\n",
       "      <td>5</td>\n",
       "      <td>90.1</td>\n",
       "      <td>9</td>\n",
       "    </tr>\n",
       "    <tr>\n",
       "      <th>...</th>\n",
       "      <td>...</td>\n",
       "      <td>...</td>\n",
       "      <td>...</td>\n",
       "      <td>...</td>\n",
       "      <td>...</td>\n",
       "    </tr>\n",
       "    <tr>\n",
       "      <th>235</th>\n",
       "      <td>University of California, Irvine</td>\n",
       "      <td>39.5</td>\n",
       "      <td>236</td>\n",
       "      <td>19.7</td>\n",
       "      <td>193</td>\n",
       "    </tr>\n",
       "    <tr>\n",
       "      <th>236</th>\n",
       "      <td>King Saud University</td>\n",
       "      <td>39.4</td>\n",
       "      <td>237</td>\n",
       "      <td>14.9</td>\n",
       "      <td>208</td>\n",
       "    </tr>\n",
       "    <tr>\n",
       "      <th>237</th>\n",
       "      <td>University of Cape Town</td>\n",
       "      <td>39.4</td>\n",
       "      <td>238</td>\n",
       "      <td>14.3</td>\n",
       "      <td>212</td>\n",
       "    </tr>\n",
       "    <tr>\n",
       "      <th>238</th>\n",
       "      <td>University of Ottawa</td>\n",
       "      <td>39.4</td>\n",
       "      <td>239</td>\n",
       "      <td>27.2</td>\n",
       "      <td>166</td>\n",
       "    </tr>\n",
       "    <tr>\n",
       "      <th>239</th>\n",
       "      <td>University of Sussex</td>\n",
       "      <td>39.2</td>\n",
       "      <td>240</td>\n",
       "      <td>28.3</td>\n",
       "      <td>164</td>\n",
       "    </tr>\n",
       "  </tbody>\n",
       "</table>\n",
       "<p>240 rows × 5 columns</p>\n",
       "</div>"
      ],
      "text/plain": [
       "                                      institution score scaled  Original Rank  \\\n",
       "0    Massachusetts Institute of Technology (MIT)           100              1   \n",
       "1                         University of Cambridge         98.8              2   \n",
       "2                             Stanford University         98.5              3   \n",
       "3                            University of Oxford         98.4              4   \n",
       "4                              Harvard University         97.6              5   \n",
       "..                                            ...          ...            ...   \n",
       "235              University of California, Irvine         39.5            236   \n",
       "236                          King Saud University         39.4            237   \n",
       "237                       University of Cape Town         39.4            238   \n",
       "238                          University of Ottawa         39.4            239   \n",
       "239                          University of Sussex         39.2            240   \n",
       "\n",
       "     New Scores  New Rank  \n",
       "0         100.0         1  \n",
       "1          99.5         2  \n",
       "2          92.8         7  \n",
       "3          99.2         3  \n",
       "4          90.1         9  \n",
       "..          ...       ...  \n",
       "235        19.7       193  \n",
       "236        14.9       208  \n",
       "237        14.3       212  \n",
       "238        27.2       166  \n",
       "239        28.3       164  \n",
       "\n",
       "[240 rows x 5 columns]"
      ]
     },
     "execution_count": 14,
     "metadata": {},
     "output_type": "execute_result"
    }
   ],
   "source": [
    "\n",
    "score_df = pd.DataFrame(scores,columns=[\"New Scores\"])\n",
    "max = score_df.max()\n",
    "min = score_df.min()\n",
    "\n",
    "score_df = ((score_df - min) / (max - min) * 100).round(1)\n",
    "\n",
    "offset = (-min/(max-min)*100).round(1)\n",
    "print(offset)\n",
    "score_df['New Rank'] = score_df['New Scores'].rank(ascending=False).astype(int)\n",
    "\n",
    "scored_data = pd.concat([data_used.iloc[:,2], data_used.iloc[:,:2], score_df], axis = 1)\n",
    "\n",
    "scored_data = scored_data.rename(columns={'Rank':'Original Rank'})\n",
    "scored_data"
   ]
  },
  {
   "cell_type": "code",
   "execution_count": 15,
   "id": "3e7abd62",
   "metadata": {},
   "outputs": [
    {
     "name": "stdout",
     "output_type": "stream",
     "text": [
      "[ 11  13  16  19  22  23  24  25  26  27  28  30  31  32  33  34  35  36\n",
      "  39  40  41  42  43  44  45  47  48  49  50  52  53  54  55  56  58  59\n",
      "  60  61  63  64  65  67  68  69  70  71  72  73  75  76  77  78  79  80\n",
      "  81  82  84  85  86  87  88  89  90  91  92  93  94  95  96  97  98  99\n",
      " 100 102 103 104 105 106 108 109 110 111 112 113 114 117 119 120 121 122\n",
      " 124 125 126 127 128 129 130 131 132 133 134 135 136 137 138 139 140 141\n",
      " 142 143 144 145 146 147 148 149 150 151 152 153 154 155 156 157 158 160\n",
      " 161 162 163 164 165 166 167 168 169 170 171 172 173 174 175 176 177 178\n",
      " 179 180 181 182 183 184 185 186 187 189 190 191 192 193 194 195 196 197\n",
      " 200 201 202 203 204 205 207 208 209 210 211 212 213 214 215 216 217 218\n",
      " 219 220 221 223 224 225 228 229 231 232 233 234 235 236 237 238 239]\n",
      "0           Massachusetts Institute of Technology (MIT) \n",
      "1                                University of Cambridge\n",
      "3                                   University of Oxford\n",
      "5           California Institute of Technology (Caltech)\n",
      "8      ETH Zurich - Swiss Federal Institute of Techno...\n",
      "10                National University of Singapore (NUS)\n",
      "12                            University of Pennsylvania\n",
      "17                                       Yale University\n",
      "18     Nanyang Technological University, Singapore (NTU)\n",
      "21                                   Columbia University\n",
      "57                               University of Amsterdam\n",
      "62                                      Brown University\n",
      "66                     Universidad de Buenos Aires (UBA)\n",
      "74                     Lomonosov Moscow State University\n",
      "83                                  University of Zurich\n",
      "118                   Washington University in St. Louis\n",
      "159         King Fahd University of Petroleum & Minerals\n",
      "198                                Vanderbilt University\n",
      "206                                 University of Bergen\n",
      "222                   The Hebrew University of Jerusalem\n",
      "226        Southern University of Science and Technology\n",
      "230                               Gadjah Mada University\n",
      "Name: institution, dtype: object\n"
     ]
    }
   ],
   "source": [
    "# 输出排名相差大于5的\n",
    "print(np.where(abs(scored_data[\"Original Rank\"] - scored_data[\"New Rank\"]) > 5)[0])\n",
    "\n",
    "stable_index = np.where(abs(scored_data[\"Original Rank\"] - scored_data[\"New Rank\"]) <= 2)\n",
    "print(scored_data['institution'].iloc[stable_index])"
   ]
  },
  {
   "attachments": {},
   "cell_type": "markdown",
   "id": "97bc0fa6",
   "metadata": {},
   "source": [
    "## K-means聚类"
   ]
  },
  {
   "attachments": {},
   "cell_type": "markdown",
   "id": "b6105c52",
   "metadata": {},
   "source": [
    "### 这一步是为了得到因子分析的因子每一项的分数，也就是一个240*4的矩阵"
   ]
  },
  {
   "cell_type": "code",
   "execution_count": 16,
   "id": "78c68fd2",
   "metadata": {},
   "outputs": [
    {
     "name": "stdout",
     "output_type": "stream",
     "text": [
      "[56.9 59.  49.3 52.8]\n",
      "(240, 4)\n"
     ]
    },
    {
     "data": {
      "text/html": [
       "<div>\n",
       "<style scoped>\n",
       "    .dataframe tbody tr th:only-of-type {\n",
       "        vertical-align: middle;\n",
       "    }\n",
       "\n",
       "    .dataframe tbody tr th {\n",
       "        vertical-align: top;\n",
       "    }\n",
       "\n",
       "    .dataframe thead th {\n",
       "        text-align: right;\n",
       "    }\n",
       "</style>\n",
       "<table border=\"1\" class=\"dataframe\">\n",
       "  <thead>\n",
       "    <tr style=\"text-align: right;\">\n",
       "      <th></th>\n",
       "      <th>International Diversity</th>\n",
       "      <th>Overall Reputation</th>\n",
       "      <th>L/T Environment</th>\n",
       "      <th>Overall Research Level</th>\n",
       "    </tr>\n",
       "  </thead>\n",
       "  <tbody>\n",
       "    <tr>\n",
       "      <th>0</th>\n",
       "      <td>84.5</td>\n",
       "      <td>95.0</td>\n",
       "      <td>90.6</td>\n",
       "      <td>83.7</td>\n",
       "    </tr>\n",
       "    <tr>\n",
       "      <th>1</th>\n",
       "      <td>88.8</td>\n",
       "      <td>95.5</td>\n",
       "      <td>90.1</td>\n",
       "      <td>76.2</td>\n",
       "    </tr>\n",
       "    <tr>\n",
       "      <th>2</th>\n",
       "      <td>69.2</td>\n",
       "      <td>93.3</td>\n",
       "      <td>90.9</td>\n",
       "      <td>87.7</td>\n",
       "    </tr>\n",
       "    <tr>\n",
       "      <th>3</th>\n",
       "      <td>89.6</td>\n",
       "      <td>95.8</td>\n",
       "      <td>89.9</td>\n",
       "      <td>73.9</td>\n",
       "    </tr>\n",
       "    <tr>\n",
       "      <th>4</th>\n",
       "      <td>61.9</td>\n",
       "      <td>95.4</td>\n",
       "      <td>90.3</td>\n",
       "      <td>87.1</td>\n",
       "    </tr>\n",
       "  </tbody>\n",
       "</table>\n",
       "</div>"
      ],
      "text/plain": [
       "   International Diversity  Overall Reputation  L/T Environment  \\\n",
       "0                     84.5                95.0             90.6   \n",
       "1                     88.8                95.5             90.1   \n",
       "2                     69.2                93.3             90.9   \n",
       "3                     89.6                95.8             89.9   \n",
       "4                     61.9                95.4             90.3   \n",
       "\n",
       "   Overall Research Level  \n",
       "0                    83.7  \n",
       "1                    76.2  \n",
       "2                    87.7  \n",
       "3                    73.9  \n",
       "4                    87.1  "
      ]
     },
     "execution_count": 16,
     "metadata": {},
     "output_type": "execute_result"
    }
   ],
   "source": [
    "factor_score = fa.transform(standardized_df)\n",
    "\n",
    "max = factor_score.max(axis=0)\n",
    "min = factor_score.min(axis=0)\n",
    "\n",
    "factor_score = ((factor_score - min) / (max - min) * 100).round(1)\n",
    "\n",
    "offset = (-min/(max-min)*100).round(1)\n",
    "print(offset)\n",
    "\n",
    "factor_score_df = pd.DataFrame(factor_score,columns=[\"International Diversity\",\"Overall Reputation\",\"L/T Environment\",\"Overall Research Level\"])\n",
    "# factor_score_df.iloc[232,:]\n",
    "# # np.where(factor_score_df[\"International Diversity\"] == 100)[0]\n",
    "# data[\"institution\"][232]\n",
    "print(factor_score_df.shape)\n",
    "factor_score_df.head()"
   ]
  },
  {
   "attachments": {},
   "cell_type": "markdown",
   "id": "1cd47b3a",
   "metadata": {},
   "source": [
    "### 1 原始数据进行K-means聚类"
   ]
  },
  {
   "attachments": {},
   "cell_type": "markdown",
   "id": "81a1c71c",
   "metadata": {},
   "source": [
    "### 1.1 确定K"
   ]
  },
  {
   "cell_type": "code",
   "execution_count": 17,
   "id": "73cdd9f4",
   "metadata": {},
   "outputs": [
    {
     "name": "stderr",
     "output_type": "stream",
     "text": [
      "c:\\Users\\SouthCat\\anaconda3\\envs\\cs324\\lib\\site-packages\\sklearn\\cluster\\_kmeans.py:1382: UserWarning: KMeans is known to have a memory leak on Windows with MKL, when there are less chunks than available threads. You can avoid it by setting the environment variable OMP_NUM_THREADS=1.\n",
      "  warnings.warn(\n"
     ]
    },
    {
     "name": "stdout",
     "output_type": "stream",
     "text": [
      "916872.7516104347\n"
     ]
    },
    {
     "name": "stderr",
     "output_type": "stream",
     "text": [
      "c:\\Users\\SouthCat\\anaconda3\\envs\\cs324\\lib\\site-packages\\sklearn\\cluster\\_kmeans.py:1382: UserWarning: KMeans is known to have a memory leak on Windows with MKL, when there are less chunks than available threads. You can avoid it by setting the environment variable OMP_NUM_THREADS=1.\n",
      "  warnings.warn(\n"
     ]
    },
    {
     "name": "stdout",
     "output_type": "stream",
     "text": [
      "743976.2113101853\n"
     ]
    },
    {
     "name": "stderr",
     "output_type": "stream",
     "text": [
      "c:\\Users\\SouthCat\\anaconda3\\envs\\cs324\\lib\\site-packages\\sklearn\\cluster\\_kmeans.py:1382: UserWarning: KMeans is known to have a memory leak on Windows with MKL, when there are less chunks than available threads. You can avoid it by setting the environment variable OMP_NUM_THREADS=1.\n",
      "  warnings.warn(\n"
     ]
    },
    {
     "name": "stdout",
     "output_type": "stream",
     "text": [
      "649183.9586386555\n"
     ]
    },
    {
     "name": "stderr",
     "output_type": "stream",
     "text": [
      "c:\\Users\\SouthCat\\anaconda3\\envs\\cs324\\lib\\site-packages\\sklearn\\cluster\\_kmeans.py:1382: UserWarning: KMeans is known to have a memory leak on Windows with MKL, when there are less chunks than available threads. You can avoid it by setting the environment variable OMP_NUM_THREADS=1.\n",
      "  warnings.warn(\n"
     ]
    },
    {
     "name": "stdout",
     "output_type": "stream",
     "text": [
      "569140.7709306198\n"
     ]
    },
    {
     "name": "stderr",
     "output_type": "stream",
     "text": [
      "c:\\Users\\SouthCat\\anaconda3\\envs\\cs324\\lib\\site-packages\\sklearn\\cluster\\_kmeans.py:1382: UserWarning: KMeans is known to have a memory leak on Windows with MKL, when there are less chunks than available threads. You can avoid it by setting the environment variable OMP_NUM_THREADS=1.\n",
      "  warnings.warn(\n"
     ]
    },
    {
     "name": "stdout",
     "output_type": "stream",
     "text": [
      "529962.3990870957\n"
     ]
    },
    {
     "name": "stderr",
     "output_type": "stream",
     "text": [
      "c:\\Users\\SouthCat\\anaconda3\\envs\\cs324\\lib\\site-packages\\sklearn\\cluster\\_kmeans.py:1382: UserWarning: KMeans is known to have a memory leak on Windows with MKL, when there are less chunks than available threads. You can avoid it by setting the environment variable OMP_NUM_THREADS=1.\n",
      "  warnings.warn(\n"
     ]
    },
    {
     "name": "stdout",
     "output_type": "stream",
     "text": [
      "484186.7591360529\n"
     ]
    },
    {
     "name": "stderr",
     "output_type": "stream",
     "text": [
      "c:\\Users\\SouthCat\\anaconda3\\envs\\cs324\\lib\\site-packages\\sklearn\\cluster\\_kmeans.py:1382: UserWarning: KMeans is known to have a memory leak on Windows with MKL, when there are less chunks than available threads. You can avoid it by setting the environment variable OMP_NUM_THREADS=1.\n",
      "  warnings.warn(\n"
     ]
    },
    {
     "name": "stdout",
     "output_type": "stream",
     "text": [
      "447595.21180207166\n"
     ]
    },
    {
     "name": "stderr",
     "output_type": "stream",
     "text": [
      "c:\\Users\\SouthCat\\anaconda3\\envs\\cs324\\lib\\site-packages\\sklearn\\cluster\\_kmeans.py:1382: UserWarning: KMeans is known to have a memory leak on Windows with MKL, when there are less chunks than available threads. You can avoid it by setting the environment variable OMP_NUM_THREADS=1.\n",
      "  warnings.warn(\n"
     ]
    },
    {
     "name": "stdout",
     "output_type": "stream",
     "text": [
      "411927.5367972887\n"
     ]
    },
    {
     "data": {
      "image/png": "[encoded data removed]",
      "text/plain": [
       "<Figure size 640x480 with 1 Axes>"
      ]
     },
     "metadata": {},
     "output_type": "display_data"
    }
   ],
   "source": [
    "# K-means to cluster the universities and calculate the average score of each cluster\n",
    "from sklearn.cluster import KMeans\n",
    "from sklearn.metrics import silhouette_score\n",
    "original_data = data_used.iloc[:,2:]\n",
    "k_values = range(2, 10)\n",
    "sse = []\n",
    "silhouette_scores = []\n",
    "for k in k_values:\n",
    "    kmeans = KMeans(n_clusters=k, random_state=0, n_init=10).fit(original_data.iloc[:,1:])\n",
    "    print(kmeans.inertia_)\n",
    "\n",
    "    # 计算误差平方和\n",
    "    sse.append(kmeans.inertia_)\n",
    "    \n",
    "    # 计算轮廓系数\n",
    "    labels = kmeans.labels_\n",
    "    score = silhouette_score(original_data.iloc[:,1:], labels)\n",
    "    silhouette_scores.append(score)\n",
    "# 绘制K值和误差平方和的关系图\n",
    "plt.plot(k_values, sse, 'bx-')\n",
    "plt.xlabel('K')\n",
    "plt.ylabel('SSE')\n",
    "plt.title('Elbow Method')\n",
    "plt.show()"
   ]
  },
  {
   "attachments": {},
   "cell_type": "markdown",
   "id": "f92ac90a",
   "metadata": {},
   "source": [
    "### 1.2 聚类结果"
   ]
  },
  {
   "cell_type": "code",
   "execution_count": 18,
   "id": "057e1f83",
   "metadata": {},
   "outputs": [
    {
     "name": "stderr",
     "output_type": "stream",
     "text": [
      "c:\\Users\\SouthCat\\anaconda3\\envs\\cs324\\lib\\site-packages\\sklearn\\cluster\\_kmeans.py:1382: UserWarning: KMeans is known to have a memory leak on Windows with MKL, when there are less chunks than available threads. You can avoid it by setting the environment variable OMP_NUM_THREADS=1.\n",
      "  warnings.warn(\n"
     ]
    }
   ],
   "source": [
    "kmeans = KMeans(n_clusters=5, random_state=0, n_init=10).fit(original_data.iloc[:,1:])"
   ]
  },
  {
   "cell_type": "code",
   "execution_count": 19,
   "id": "bb4aac75",
   "metadata": {},
   "outputs": [
    {
     "data": {
      "text/html": [
       "<div>\n",
       "<style scoped>\n",
       "    .dataframe tbody tr th:only-of-type {\n",
       "        vertical-align: middle;\n",
       "    }\n",
       "\n",
       "    .dataframe tbody tr th {\n",
       "        vertical-align: top;\n",
       "    }\n",
       "\n",
       "    .dataframe thead th {\n",
       "        text-align: right;\n",
       "    }\n",
       "</style>\n",
       "<table border=\"1\" class=\"dataframe\">\n",
       "  <thead>\n",
       "    <tr style=\"text-align: right;\">\n",
       "      <th></th>\n",
       "      <th>institution</th>\n",
       "      <th>location</th>\n",
       "      <th>Labels</th>\n",
       "      <th>International Diversity</th>\n",
       "      <th>Overall Reputation</th>\n",
       "      <th>L/T Environment</th>\n",
       "      <th>Overall Research Level</th>\n",
       "    </tr>\n",
       "  </thead>\n",
       "  <tbody>\n",
       "    <tr>\n",
       "      <th>0</th>\n",
       "      <td>Massachusetts Institute of Technology (MIT)</td>\n",
       "      <td>United States</td>\n",
       "      <td>0.0</td>\n",
       "      <td>84.5</td>\n",
       "      <td>95.0</td>\n",
       "      <td>90.6</td>\n",
       "      <td>83.7</td>\n",
       "    </tr>\n",
       "    <tr>\n",
       "      <th>1</th>\n",
       "      <td>University of Cambridge</td>\n",
       "      <td>United Kingdom</td>\n",
       "      <td>0.0</td>\n",
       "      <td>88.8</td>\n",
       "      <td>95.5</td>\n",
       "      <td>90.1</td>\n",
       "      <td>76.2</td>\n",
       "    </tr>\n",
       "    <tr>\n",
       "      <th>2</th>\n",
       "      <td>Stanford University</td>\n",
       "      <td>United States</td>\n",
       "      <td>0.0</td>\n",
       "      <td>69.2</td>\n",
       "      <td>93.3</td>\n",
       "      <td>90.9</td>\n",
       "      <td>87.7</td>\n",
       "    </tr>\n",
       "    <tr>\n",
       "      <th>3</th>\n",
       "      <td>University of Oxford</td>\n",
       "      <td>United Kingdom</td>\n",
       "      <td>0.0</td>\n",
       "      <td>89.6</td>\n",
       "      <td>95.8</td>\n",
       "      <td>89.9</td>\n",
       "      <td>73.9</td>\n",
       "    </tr>\n",
       "    <tr>\n",
       "      <th>4</th>\n",
       "      <td>Harvard University</td>\n",
       "      <td>United States</td>\n",
       "      <td>0.0</td>\n",
       "      <td>61.9</td>\n",
       "      <td>95.4</td>\n",
       "      <td>90.3</td>\n",
       "      <td>87.1</td>\n",
       "    </tr>\n",
       "  </tbody>\n",
       "</table>\n",
       "</div>"
      ],
      "text/plain": [
       "                                    institution        location  Labels  \\\n",
       "0  Massachusetts Institute of Technology (MIT)    United States     0.0   \n",
       "1                       University of Cambridge  United Kingdom     0.0   \n",
       "2                           Stanford University   United States     0.0   \n",
       "3                          University of Oxford  United Kingdom     0.0   \n",
       "4                            Harvard University   United States     0.0   \n",
       "\n",
       "   International Diversity  Overall Reputation  L/T Environment  \\\n",
       "0                     84.5                95.0             90.6   \n",
       "1                     88.8                95.5             90.1   \n",
       "2                     69.2                93.3             90.9   \n",
       "3                     89.6                95.8             89.9   \n",
       "4                     61.9                95.4             90.3   \n",
       "\n",
       "   Overall Research Level  \n",
       "0                    83.7  \n",
       "1                    76.2  \n",
       "2                    87.7  \n",
       "3                    73.9  \n",
       "4                    87.1  "
      ]
     },
     "execution_count": 19,
     "metadata": {},
     "output_type": "execute_result"
    }
   ],
   "source": [
    "labeled_original_data = pd.concat([original_data.iloc[:,0],data[\"location\"] ,pd.DataFrame(kmeans.labels_, columns=[\"Labels\"]), factor_score_df], axis=1)\n",
    "\n",
    "labeled_original_data.head()"
   ]
  },
  {
   "cell_type": "code",
   "execution_count": 20,
   "id": "80ab98a6",
   "metadata": {},
   "outputs": [
    {
     "name": "stdout",
     "output_type": "stream",
     "text": [
      "                                    institution        location  Labels  \\\n",
      "0  Massachusetts Institute of Technology (MIT)    United States     0.0   \n",
      "1                       University of Cambridge  United Kingdom     0.0   \n",
      "2                           Stanford University   United States     0.0   \n",
      "3                          University of Oxford  United Kingdom     0.0   \n",
      "4                            Harvard University   United States     0.0   \n",
      "\n",
      "   International Diversity  Overall Reputation  L/T Environment  \\\n",
      "0                     84.5                95.0             90.6   \n",
      "1                     88.8                95.5             90.1   \n",
      "2                     69.2                93.3             90.9   \n",
      "3                     89.6                95.8             89.9   \n",
      "4                     61.9                95.4             90.3   \n",
      "\n",
      "   Overall Research Level  \n",
      "0                    83.7  \n",
      "1                    76.2  \n",
      "2                    87.7  \n",
      "3                    73.9  \n",
      "4                    87.1  \n"
     ]
    }
   ],
   "source": [
    "labeled = labeled_original_data.groupby(\"Labels\")\n",
    "group1 = labeled.get_group(0)\n",
    "group2 = labeled.get_group(1)\n",
    "group3 = labeled.get_group(2)\n",
    "group4 = labeled.get_group(3)\n",
    "group5 = labeled.get_group(4)\n",
    "\n",
    "print(group1.head())"
   ]
  },
  {
   "attachments": {},
   "cell_type": "markdown",
   "id": "d623fbbd",
   "metadata": {},
   "source": [
    "### 1.3 分类结果检查地域"
   ]
  },
  {
   "cell_type": "code",
   "execution_count": 21,
   "id": "14d892c5",
   "metadata": {},
   "outputs": [],
   "source": [
    "def print_state(df, column, i):\n",
    "    value_counts = df[column].value_counts()\n",
    "    print(f\"Group{i}\")\n",
    "    print(value_counts)\n",
    "    print()"
   ]
  },
  {
   "cell_type": "code",
   "execution_count": 22,
   "id": "d83d86da",
   "metadata": {},
   "outputs": [
    {
     "name": "stdout",
     "output_type": "stream",
     "text": [
      "Group1\n",
      "United States       15\n",
      "United Kingdom      11\n",
      "Australia            6\n",
      "China (Mainland)     3\n",
      "Hong Kong SAR        3\n",
      "Canada               3\n",
      "Switzerland          2\n",
      "Singapore            2\n",
      "France               2\n",
      "Germany              1\n",
      "Netherlands          1\n",
      "Name: location, dtype: int64\n",
      "\n",
      "Group2\n",
      "United States           7\n",
      "Germany                 5\n",
      "Norway                  2\n",
      "Saudi Arabia            2\n",
      "Canada                  2\n",
      "France                  2\n",
      "China (Mainland)        2\n",
      "Denmark                 2\n",
      "South Korea             2\n",
      "Finland                 1\n",
      "Switzerland             1\n",
      "Netherlands             1\n",
      "Belgium                 1\n",
      "United Arab Emirates    1\n",
      "Sweden                  1\n",
      "Israel                  1\n",
      "Russia                  1\n",
      "Name: location, dtype: int64\n",
      "\n",
      "Group3\n",
      "United States       16\n",
      "China (Mainland)     5\n",
      "Germany              4\n",
      "Netherlands          3\n",
      "Italy                3\n",
      "India                3\n",
      "Spain                3\n",
      "Brazil               2\n",
      "South Korea          1\n",
      "France               1\n",
      "Denmark              1\n",
      "Taiwan               1\n",
      "South Africa         1\n",
      "Name: location, dtype: int64\n",
      "\n",
      "Group4\n",
      "United Kingdom    19\n",
      "Australia          9\n",
      "Netherlands        6\n",
      "Sweden             5\n",
      "Canada             4\n",
      "Switzerland        4\n",
      "Belgium            3\n",
      "United States      3\n",
      "Hong Kong SAR      2\n",
      "New Zealand        2\n",
      "Ireland            2\n",
      "Germany            2\n",
      "Austria            2\n",
      "Saudi Arabia       1\n",
      "Finland            1\n",
      "Qatar              1\n",
      "Name: location, dtype: int64\n",
      "\n",
      "Group5\n",
      "Japan               10\n",
      "United States        7\n",
      "South Korea          5\n",
      "Malaysia             5\n",
      "Taiwan               3\n",
      "Indonesia            2\n",
      "Spain                2\n",
      "Germany              2\n",
      "Mexico               2\n",
      "Chile                2\n",
      "Thailand             1\n",
      "Colombia             1\n",
      "China (Mainland)     1\n",
      "Kazakhstan           1\n",
      "France               1\n",
      "Argentina            1\n",
      "Russia               1\n",
      "Name: location, dtype: int64\n",
      "\n"
     ]
    }
   ],
   "source": [
    "print_state(group1, \"location\", 1)\n",
    "print_state(group2, \"location\", 2)\n",
    "print_state(group3, \"location\", 3)\n",
    "print_state(group4, \"location\", 4)\n",
    "print_state(group5, \"location\", 5)"
   ]
  },
  {
   "attachments": {},
   "cell_type": "markdown",
   "id": "e11b3a29",
   "metadata": {},
   "source": [
    "### 1.4 分类结果指标可视化 - 六芒星"
   ]
  },
  {
   "cell_type": "code",
   "execution_count": 23,
   "id": "980fd929",
   "metadata": {},
   "outputs": [
    {
     "data": {
      "application/vnd.plotly.v1+json": {
       "config": {
        "plotlyServerURL": "https://plot.ly"
       },
       "data": [
        {
         "fill": "toself",
         "name": "Group 1",
         "r": [
          90.20816326530613,
          87.72653061224491,
          71.24693877551022,
          80.5530612244898,
          88.01020408163265,
          83.62244897959184
         ],
         "theta": [
          "Academic Reputation",
          "Employer Reputation",
          "Faculty Student Ratio",
          "Citations per faculty",
          "International Faculty Ratio",
          "International Student Ratio"
         ],
         "type": "scatterpolar"
        },
        {
         "fill": "toself",
         "name": "Group 2",
         "r": [
          39.45882352941176,
          26.991176470588233,
          87.79705882352943,
          49.05,
          64.95882352941176,
          37.820588235294125
         ],
         "theta": [
          "Academic Reputation",
          "Employer Reputation",
          "Faculty Student Ratio",
          "Citations per faculty",
          "International Faculty Ratio",
          "International Student Ratio"
         ],
         "type": "scatterpolar"
        },
        {
         "fill": "toself",
         "name": "Group 3",
         "r": [
          61.47272727272727,
          47.675,
          24.715909090909083,
          70.95681818181818,
          36.95909090909091,
          26.611363636363635
         ],
         "theta": [
          "Academic Reputation",
          "Employer Reputation",
          "Faculty Student Ratio",
          "Citations per faculty",
          "International Faculty Ratio",
          "International Student Ratio"
         ],
         "type": "scatterpolar"
        },
        {
         "fill": "toself",
         "name": "Group 4",
         "r": [
          46.06212121212121,
          46.443939393939395,
          34.1121212121212,
          66.70454545454545,
          92.95606060606062,
          76.40151515151516
         ],
         "theta": [
          "Academic Reputation",
          "Employer Reputation",
          "Faculty Student Ratio",
          "Citations per faculty",
          "International Faculty Ratio",
          "International Student Ratio"
         ],
         "type": "scatterpolar"
        },
        {
         "fill": "toself",
         "name": "Group 5",
         "r": [
          69.19787234042553,
          77.4,
          68.21489361702127,
          29.957446808510642,
          27.295744680851072,
          32.331914893617025
         ],
         "theta": [
          "Academic Reputation",
          "Employer Reputation",
          "Faculty Student Ratio",
          "Citations per faculty",
          "International Faculty Ratio",
          "International Student Ratio"
         ],
         "type": "scatterpolar"
        }
       ],
       "layout": {
        "polar": {
         "radialaxis": {
          "visible": true
         }
        },
        "showlegend": true,
        "template": {
         "data": {
          "bar": [
           {
            "error_x": {
             "color": "#2a3f5f"
            },
            "error_y": {
             "color": "#2a3f5f"
            },
            "marker": {
             "line": {
              "color": "#E5ECF6",
              "width": 0.5
             },
             "pattern": {
              "fillmode": "overlay",
              "size": 10,
              "solidity": 0.2
             }
            },
            "type": "bar"
           }
          ],
          "barpolar": [
           {
            "marker": {
             "line": {
              "color": "#E5ECF6",
              "width": 0.5
             },
             "pattern": {
              "fillmode": "overlay",
              "size": 10,
              "solidity": 0.2
             }
            },
            "type": "barpolar"
           }
          ],
          "carpet": [
           {
            "aaxis": {
             "endlinecolor": "#2a3f5f",
             "gridcolor": "white",
             "linecolor": "white",
             "minorgridcolor": "white",
             "startlinecolor": "#2a3f5f"
            },
            "baxis": {
             "endlinecolor": "#2a3f5f",
             "gridcolor": "white",
             "linecolor": "white",
             "minorgridcolor": "white",
             "startlinecolor": "#2a3f5f"
            },
            "type": "carpet"
           }
          ],
          "choropleth": [
           {
            "colorbar": {
             "outlinewidth": 0,
             "ticks": ""
            },
            "type": "choropleth"
           }
          ],
          "contour": [
           {
            "colorbar": {
             "outlinewidth": 0,
             "ticks": ""
            },
            "colorscale": [
             [
              0,
              "#0d0887"
             ],
             [
              0.1111111111111111,
              "#46039f"
             ],
             [
              0.2222222222222222,
              "#7201a8"
             ],
             [
              0.3333333333333333,
              "#9c179e"
             ],
             [
              0.4444444444444444,
              "#bd3786"
             ],
             [
              0.5555555555555556,
              "#d8576b"
             ],
             [
              0.6666666666666666,
              "#ed7953"
             ],
             [
              0.7777777777777778,
              "#fb9f3a"
             ],
             [
              0.8888888888888888,
              "#fdca26"
             ],
             [
              1,
              "#f0f921"
             ]
            ],
            "type": "contour"
           }
          ],
          "contourcarpet": [
           {
            "colorbar": {
             "outlinewidth": 0,
             "ticks": ""
            },
            "type": "contourcarpet"
           }
          ],
          "heatmap": [
           {
            "colorbar": {
             "outlinewidth": 0,
             "ticks": ""
            },
            "colorscale": [
             [
              0,
              "#0d0887"
             ],
             [
              0.1111111111111111,
              "#46039f"
             ],
             [
              0.2222222222222222,
              "#7201a8"
             ],
             [
              0.3333333333333333,
              "#9c179e"
             ],
             [
              0.4444444444444444,
              "#bd3786"
             ],
             [
              0.5555555555555556,
              "#d8576b"
             ],
             [
              0.6666666666666666,
              "#ed7953"
             ],
             [
              0.7777777777777778,
              "#fb9f3a"
             ],
             [
              0.8888888888888888,
              "#fdca26"
             ],
             [
              1,
              "#f0f921"
             ]
            ],
            "type": "heatmap"
           }
          ],
          "heatmapgl": [
           {
            "colorbar": {
             "outlinewidth": 0,
             "ticks": ""
            },
            "colorscale": [
             [
              0,
              "#0d0887"
             ],
             [
              0.1111111111111111,
              "#46039f"
             ],
             [
              0.2222222222222222,
              "#7201a8"
             ],
             [
              0.3333333333333333,
              "#9c179e"
             ],
             [
              0.4444444444444444,
              "#bd3786"
             ],
             [
              0.5555555555555556,
              "#d8576b"
             ],
             [
              0.6666666666666666,
              "#ed7953"
             ],
             [
              0.7777777777777778,
              "#fb9f3a"
             ],
             [
              0.8888888888888888,
              "#fdca26"
             ],
             [
              1,
              "#f0f921"
             ]
            ],
            "type": "heatmapgl"
           }
          ],
          "histogram": [
           {
            "marker": {
             "pattern": {
              "fillmode": "overlay",
              "size": 10,
              "solidity": 0.2
             }
            },
            "type": "histogram"
           }
          ],
          "histogram2d": [
           {
            "colorbar": {
             "outlinewidth": 0,
             "ticks": ""
            },
            "colorscale": [
             [
              0,
              "#0d0887"
             ],
             [
              0.1111111111111111,
              "#46039f"
             ],
             [
              0.2222222222222222,
              "#7201a8"
             ],
             [
              0.3333333333333333,
              "#9c179e"
             ],
             [
              0.4444444444444444,
              "#bd3786"
             ],
             [
              0.5555555555555556,
              "#d8576b"
             ],
             [
              0.6666666666666666,
              "#ed7953"
             ],
             [
              0.7777777777777778,
              "#fb9f3a"
             ],
             [
              0.8888888888888888,
              "#fdca26"
             ],
             [
              1,
              "#f0f921"
             ]
            ],
            "type": "histogram2d"
           }
          ],
          "histogram2dcontour": [
           {
            "colorbar": {
             "outlinewidth": 0,
             "ticks": ""
            },
            "colorscale": [
             [
              0,
              "#0d0887"
             ],
             [
              0.1111111111111111,
              "#46039f"
             ],
             [
              0.2222222222222222,
              "#7201a8"
             ],
             [
              0.3333333333333333,
              "#9c179e"
             ],
             [
              0.4444444444444444,
              "#bd3786"
             ],
             [
              0.5555555555555556,
              "#d8576b"
             ],
             [
              0.6666666666666666,
              "#ed7953"
             ],
             [
              0.7777777777777778,
              "#fb9f3a"
             ],
             [
              0.8888888888888888,
              "#fdca26"
             ],
             [
              1,
              "#f0f921"
             ]
            ],
            "type": "histogram2dcontour"
           }
          ],
          "mesh3d": [
           {
            "colorbar": {
             "outlinewidth": 0,
             "ticks": ""
            },
            "type": "mesh3d"
           }
          ],
          "parcoords": [
           {
            "line": {
             "colorbar": {
              "outlinewidth": 0,
              "ticks": ""
             }
            },
            "type": "parcoords"
           }
          ],
          "pie": [
           {
            "automargin": true,
            "type": "pie"
           }
          ],
          "scatter": [
           {
            "fillpattern": {
             "fillmode": "overlay",
             "size": 10,
             "solidity": 0.2
            },
            "type": "scatter"
           }
          ],
          "scatter3d": [
           {
            "line": {
             "colorbar": {
              "outlinewidth": 0,
              "ticks": ""
             }
            },
            "marker": {
             "colorbar": {
              "outlinewidth": 0,
              "ticks": ""
             }
            },
            "type": "scatter3d"
           }
          ],
          "scattercarpet": [
           {
            "marker": {
             "colorbar": {
              "outlinewidth": 0,
              "ticks": ""
             }
            },
            "type": "scattercarpet"
           }
          ],
          "scattergeo": [
           {
            "marker": {
             "colorbar": {
              "outlinewidth": 0,
              "ticks": ""
             }
            },
            "type": "scattergeo"
           }
          ],
          "scattergl": [
           {
            "marker": {
             "colorbar": {
              "outlinewidth": 0,
              "ticks": ""
             }
            },
            "type": "scattergl"
           }
          ],
          "scattermapbox": [
           {
            "marker": {
             "colorbar": {
              "outlinewidth": 0,
              "ticks": ""
             }
            },
            "type": "scattermapbox"
           }
          ],
          "scatterpolar": [
           {
            "marker": {
             "colorbar": {
              "outlinewidth": 0,
              "ticks": ""
             }
            },
            "type": "scatterpolar"
           }
          ],
          "scatterpolargl": [
           {
            "marker": {
             "colorbar": {
              "outlinewidth": 0,
              "ticks": ""
             }
            },
            "type": "scatterpolargl"
           }
          ],
          "scatterternary": [
           {
            "marker": {
             "colorbar": {
              "outlinewidth": 0,
              "ticks": ""
             }
            },
            "type": "scatterternary"
           }
          ],
          "surface": [
           {
            "colorbar": {
             "outlinewidth": 0,
             "ticks": ""
            },
            "colorscale": [
             [
              0,
              "#0d0887"
             ],
             [
              0.1111111111111111,
              "#46039f"
             ],
             [
              0.2222222222222222,
              "#7201a8"
             ],
             [
              0.3333333333333333,
              "#9c179e"
             ],
             [
              0.4444444444444444,
              "#bd3786"
             ],
             [
              0.5555555555555556,
              "#d8576b"
             ],
             [
              0.6666666666666666,
              "#ed7953"
             ],
             [
              0.7777777777777778,
              "#fb9f3a"
             ],
             [
              0.8888888888888888,
              "#fdca26"
             ],
             [
              1,
              "#f0f921"
             ]
            ],
            "type": "surface"
           }
          ],
          "table": [
           {
            "cells": {
             "fill": {
              "color": "#EBF0F8"
             },
             "line": {
              "color": "white"
             }
            },
            "header": {
             "fill": {
              "color": "#C8D4E3"
             },
             "line": {
              "color": "white"
             }
            },
            "type": "table"
           }
          ]
         },
         "layout": {
          "annotationdefaults": {
           "arrowcolor": "#2a3f5f",
           "arrowhead": 0,
           "arrowwidth": 1
          },
          "autotypenumbers": "strict",
          "coloraxis": {
           "colorbar": {
            "outlinewidth": 0,
            "ticks": ""
           }
          },
          "colorscale": {
           "diverging": [
            [
             0,
             "#8e0152"
            ],
            [
             0.1,
             "#c51b7d"
            ],
            [
             0.2,
             "#de77ae"
            ],
            [
             0.3,
             "#f1b6da"
            ],
            [
             0.4,
             "#fde0ef"
            ],
            [
             0.5,
             "#f7f7f7"
            ],
            [
             0.6,
             "#e6f5d0"
            ],
            [
             0.7,
             "#b8e186"
            ],
            [
             0.8,
             "#7fbc41"
            ],
            [
             0.9,
             "#4d9221"
            ],
            [
             1,
             "#276419"
            ]
           ],
           "sequential": [
            [
             0,
             "#0d0887"
            ],
            [
             0.1111111111111111,
             "#46039f"
            ],
            [
             0.2222222222222222,
             "#7201a8"
            ],
            [
             0.3333333333333333,
             "#9c179e"
            ],
            [
             0.4444444444444444,
             "#bd3786"
            ],
            [
             0.5555555555555556,
             "#d8576b"
            ],
            [
             0.6666666666666666,
             "#ed7953"
            ],
            [
             0.7777777777777778,
             "#fb9f3a"
            ],
            [
             0.8888888888888888,
             "#fdca26"
            ],
            [
             1,
             "#f0f921"
            ]
           ],
           "sequentialminus": [
            [
             0,
             "#0d0887"
            ],
            [
             0.1111111111111111,
             "#46039f"
            ],
            [
             0.2222222222222222,
             "#7201a8"
            ],
            [
             0.3333333333333333,
             "#9c179e"
            ],
            [
             0.4444444444444444,
             "#bd3786"
            ],
            [
             0.5555555555555556,
             "#d8576b"
            ],
            [
             0.6666666666666666,
             "#ed7953"
            ],
            [
             0.7777777777777778,
             "#fb9f3a"
            ],
            [
             0.8888888888888888,
             "#fdca26"
            ],
            [
             1,
             "#f0f921"
            ]
           ]
          },
          "colorway": [
           "#636efa",
           "#EF553B",
           "#00cc96",
           "#ab63fa",
           "#FFA15A",
           "#19d3f3",
           "#FF6692",
           "#B6E880",
           "#FF97FF",
           "#FECB52"
          ],
          "font": {
           "color": "#2a3f5f"
          },
          "geo": {
           "bgcolor": "white",
           "lakecolor": "white",
           "landcolor": "#E5ECF6",
           "showlakes": true,
           "showland": true,
           "subunitcolor": "white"
          },
          "hoverlabel": {
           "align": "left"
          },
          "hovermode": "closest",
          "mapbox": {
           "style": "light"
          },
          "paper_bgcolor": "white",
          "plot_bgcolor": "#E5ECF6",
          "polar": {
           "angularaxis": {
            "gridcolor": "white",
            "linecolor": "white",
            "ticks": ""
           },
           "bgcolor": "#E5ECF6",
           "radialaxis": {
            "gridcolor": "white",
            "linecolor": "white",
            "ticks": ""
           }
          },
          "scene": {
           "xaxis": {
            "backgroundcolor": "#E5ECF6",
            "gridcolor": "white",
            "gridwidth": 2,
            "linecolor": "white",
            "showbackground": true,
            "ticks": "",
            "zerolinecolor": "white"
           },
           "yaxis": {
            "backgroundcolor": "#E5ECF6",
            "gridcolor": "white",
            "gridwidth": 2,
            "linecolor": "white",
            "showbackground": true,
            "ticks": "",
            "zerolinecolor": "white"
           },
           "zaxis": {
            "backgroundcolor": "#E5ECF6",
            "gridcolor": "white",
            "gridwidth": 2,
            "linecolor": "white",
            "showbackground": true,
            "ticks": "",
            "zerolinecolor": "white"
           }
          },
          "shapedefaults": {
           "line": {
            "color": "#2a3f5f"
           }
          },
          "ternary": {
           "aaxis": {
            "gridcolor": "white",
            "linecolor": "white",
            "ticks": ""
           },
           "baxis": {
            "gridcolor": "white",
            "linecolor": "white",
            "ticks": ""
           },
           "bgcolor": "#E5ECF6",
           "caxis": {
            "gridcolor": "white",
            "linecolor": "white",
            "ticks": ""
           }
          },
          "title": {
           "x": 0.05
          },
          "xaxis": {
           "automargin": true,
           "gridcolor": "white",
           "linecolor": "white",
           "ticks": "",
           "title": {
            "standoff": 15
           },
           "zerolinecolor": "white",
           "zerolinewidth": 2
          },
          "yaxis": {
           "automargin": true,
           "gridcolor": "white",
           "linecolor": "white",
           "ticks": "",
           "title": {
            "standoff": 15
           },
           "zerolinecolor": "white",
           "zerolinewidth": 2
          }
         }
        },
        "title": {
         "text": "Radar Plot for Original Variables Cluster",
         "x": 0.5
        }
       }
      }
     },
     "metadata": {},
     "output_type": "display_data"
    }
   ],
   "source": [
    "import plotly.graph_objects as go\n",
    "\n",
    "categories = ['Academic Reputation', 'Employer Reputation', 'Faculty Student Ratio', 'Citations per faculty',\n",
    "                'International Faculty Ratio', 'International Student Ratio']\n",
    "\n",
    "fig = go.Figure()\n",
    "\n",
    "fig.add_trace(go.Scatterpolar(\n",
    "    r=kmeans.cluster_centers_[0],\n",
    "    theta=categories,\n",
    "    fill='toself',\n",
    "    name='Group 1'\n",
    "))\n",
    "\n",
    "fig.add_trace(go.Scatterpolar(\n",
    "    r=kmeans.cluster_centers_[1],\n",
    "    theta=categories,\n",
    "    fill='toself',\n",
    "    name='Group 2'\n",
    "))\n",
    "\n",
    "fig.add_trace(go.Scatterpolar(\n",
    "    r=kmeans.cluster_centers_[2],\n",
    "    theta=categories,\n",
    "    fill='toself',\n",
    "    name='Group 3'\n",
    "))\n",
    "\n",
    "fig.add_trace(go.Scatterpolar(\n",
    "    r=kmeans.cluster_centers_[3],\n",
    "    theta=categories,\n",
    "    fill='toself',\n",
    "    name='Group 4'\n",
    "))\n",
    "\n",
    "fig.add_trace(go.Scatterpolar(\n",
    "    r=kmeans.cluster_centers_[4],\n",
    "    theta=categories,\n",
    "    fill='toself',\n",
    "    name='Group 5'\n",
    "))\n",
    "\n",
    "fig.update_layout(\n",
    "    polar=dict(\n",
    "        radialaxis=dict(\n",
    "            visible=True\n",
    "        )),\n",
    "    title=go.layout.Title(text=f\"Radar Plot for Original Variables Cluster\", x=0.5),\n",
    "    showlegend=True\n",
    ")\n",
    "\n",
    "fig.show()\n"
   ]
  },
  {
   "attachments": {},
   "cell_type": "markdown",
   "id": "f7913f9f",
   "metadata": {},
   "source": [
    "### 1.5 分类结果在因子分析后的各项指标 以及可视化"
   ]
  },
  {
   "cell_type": "code",
   "execution_count": 24,
   "id": "ab0d56a9",
   "metadata": {},
   "outputs": [
    {
     "data": {
      "application/vnd.plotly.v1+json": {
       "config": {
        "plotlyServerURL": "https://plot.ly"
       },
       "data": [
        {
         "fill": "toself",
         "name": "Group 1",
         "r": [
          78.7326530612245,
          86.63469387755103,
          63.124489795918365,
          66.63877551020408
         ],
         "theta": [
          "International Diversity",
          "Overall Reputation",
          "L/T Environment",
          "Overall Research Level"
         ],
         "type": "scatterpolar"
        },
        {
         "fill": "toself",
         "name": "Group 2",
         "r": [
          50.023529411764706,
          29.811764705882357,
          84.57941176470588,
          47.905882352941184
         ],
         "theta": [
          "International Diversity",
          "Overall Reputation",
          "L/T Environment",
          "Overall Research Level"
         ],
         "type": "scatterpolar"
        },
        {
         "fill": "toself",
         "name": "Group 3",
         "r": [
          27.813636363636363,
          56.01818181818182,
          22.663636363636364,
          65.63636363636364
         ],
         "theta": [
          "International Diversity",
          "Overall Reputation",
          "L/T Environment",
          "Overall Research Level"
         ],
         "type": "scatterpolar"
        },
        {
         "fill": "toself",
         "name": "Group 4",
         "r": [
          81.14848484848486,
          45.56818181818182,
          31.737878787878792,
          53.53484848484849
         ],
         "theta": [
          "International Diversity",
          "Overall Reputation",
          "L/T Environment",
          "Overall Research Level"
         ],
         "type": "scatterpolar"
        },
        {
         "fill": "toself",
         "name": "Group 5",
         "r": [
          32.13191489361703,
          73.13617021276598,
          59.14468085106382,
          28.917021276595747
         ],
         "theta": [
          "International Diversity",
          "Overall Reputation",
          "L/T Environment",
          "Overall Research Level"
         ],
         "type": "scatterpolar"
        }
       ],
       "layout": {
        "polar": {
         "radialaxis": {
          "visible": true
         }
        },
        "showlegend": true,
        "template": {
         "data": {
          "bar": [
           {
            "error_x": {
             "color": "#2a3f5f"
            },
            "error_y": {
             "color": "#2a3f5f"
            },
            "marker": {
             "line": {
              "color": "#E5ECF6",
              "width": 0.5
             },
             "pattern": {
              "fillmode": "overlay",
              "size": 10,
              "solidity": 0.2
             }
            },
            "type": "bar"
           }
          ],
          "barpolar": [
           {
            "marker": {
             "line": {
              "color": "#E5ECF6",
              "width": 0.5
             },
             "pattern": {
              "fillmode": "overlay",
              "size": 10,
              "solidity": 0.2
             }
            },
            "type": "barpolar"
           }
          ],
          "carpet": [
           {
            "aaxis": {
             "endlinecolor": "#2a3f5f",
             "gridcolor": "white",
             "linecolor": "white",
             "minorgridcolor": "white",
             "startlinecolor": "#2a3f5f"
            },
            "baxis": {
             "endlinecolor": "#2a3f5f",
             "gridcolor": "white",
             "linecolor": "white",
             "minorgridcolor": "white",
             "startlinecolor": "#2a3f5f"
            },
            "type": "carpet"
           }
          ],
          "choropleth": [
           {
            "colorbar": {
             "outlinewidth": 0,
             "ticks": ""
            },
            "type": "choropleth"
           }
          ],
          "contour": [
           {
            "colorbar": {
             "outlinewidth": 0,
             "ticks": ""
            },
            "colorscale": [
             [
              0,
              "#0d0887"
             ],
             [
              0.1111111111111111,
              "#46039f"
             ],
             [
              0.2222222222222222,
              "#7201a8"
             ],
             [
              0.3333333333333333,
              "#9c179e"
             ],
             [
              0.4444444444444444,
              "#bd3786"
             ],
             [
              0.5555555555555556,
              "#d8576b"
             ],
             [
              0.6666666666666666,
              "#ed7953"
             ],
             [
              0.7777777777777778,
              "#fb9f3a"
             ],
             [
              0.8888888888888888,
              "#fdca26"
             ],
             [
              1,
              "#f0f921"
             ]
            ],
            "type": "contour"
           }
          ],
          "contourcarpet": [
           {
            "colorbar": {
             "outlinewidth": 0,
             "ticks": ""
            },
            "type": "contourcarpet"
           }
          ],
          "heatmap": [
           {
            "colorbar": {
             "outlinewidth": 0,
             "ticks": ""
            },
            "colorscale": [
             [
              0,
              "#0d0887"
             ],
             [
              0.1111111111111111,
              "#46039f"
             ],
             [
              0.2222222222222222,
              "#7201a8"
             ],
             [
              0.3333333333333333,
              "#9c179e"
             ],
             [
              0.4444444444444444,
              "#bd3786"
             ],
             [
              0.5555555555555556,
              "#d8576b"
             ],
             [
              0.6666666666666666,
              "#ed7953"
             ],
             [
              0.7777777777777778,
              "#fb9f3a"
             ],
             [
              0.8888888888888888,
              "#fdca26"
             ],
             [
              1,
              "#f0f921"
             ]
            ],
            "type": "heatmap"
           }
          ],
          "heatmapgl": [
           {
            "colorbar": {
             "outlinewidth": 0,
             "ticks": ""
            },
            "colorscale": [
             [
              0,
              "#0d0887"
             ],
             [
              0.1111111111111111,
              "#46039f"
             ],
             [
              0.2222222222222222,
              "#7201a8"
             ],
             [
              0.3333333333333333,
              "#9c179e"
             ],
             [
              0.4444444444444444,
              "#bd3786"
             ],
             [
              0.5555555555555556,
              "#d8576b"
             ],
             [
              0.6666666666666666,
              "#ed7953"
             ],
             [
              0.7777777777777778,
              "#fb9f3a"
             ],
             [
              0.8888888888888888,
              "#fdca26"
             ],
             [
              1,
              "#f0f921"
             ]
            ],
            "type": "heatmapgl"
           }
          ],
          "histogram": [
           {
            "marker": {
             "pattern": {
              "fillmode": "overlay",
              "size": 10,
              "solidity": 0.2
             }
            },
            "type": "histogram"
           }
          ],
          "histogram2d": [
           {
            "colorbar": {
             "outlinewidth": 0,
             "ticks": ""
            },
            "colorscale": [
             [
              0,
              "#0d0887"
             ],
             [
              0.1111111111111111,
              "#46039f"
             ],
             [
              0.2222222222222222,
              "#7201a8"
             ],
             [
              0.3333333333333333,
              "#9c179e"
             ],
             [
              0.4444444444444444,
              "#bd3786"
             ],
             [
              0.5555555555555556,
              "#d8576b"
             ],
             [
              0.6666666666666666,
              "#ed7953"
             ],
             [
              0.7777777777777778,
              "#fb9f3a"
             ],
             [
              0.8888888888888888,
              "#fdca26"
             ],
             [
              1,
              "#f0f921"
             ]
            ],
            "type": "histogram2d"
           }
          ],
          "histogram2dcontour": [
           {
            "colorbar": {
             "outlinewidth": 0,
             "ticks": ""
            },
            "colorscale": [
             [
              0,
              "#0d0887"
             ],
             [
              0.1111111111111111,
              "#46039f"
             ],
             [
              0.2222222222222222,
              "#7201a8"
             ],
             [
              0.3333333333333333,
              "#9c179e"
             ],
             [
              0.4444444444444444,
              "#bd3786"
             ],
             [
              0.5555555555555556,
              "#d8576b"
             ],
             [
              0.6666666666666666,
              "#ed7953"
             ],
             [
              0.7777777777777778,
              "#fb9f3a"
             ],
             [
              0.8888888888888888,
              "#fdca26"
             ],
             [
              1,
              "#f0f921"
             ]
            ],
            "type": "histogram2dcontour"
           }
          ],
          "mesh3d": [
           {
            "colorbar": {
             "outlinewidth": 0,
             "ticks": ""
            },
            "type": "mesh3d"
           }
          ],
          "parcoords": [
           {
            "line": {
             "colorbar": {
              "outlinewidth": 0,
              "ticks": ""
             }
            },
            "type": "parcoords"
           }
          ],
          "pie": [
           {
            "automargin": true,
            "type": "pie"
           }
          ],
          "scatter": [
           {
            "fillpattern": {
             "fillmode": "overlay",
             "size": 10,
             "solidity": 0.2
            },
            "type": "scatter"
           }
          ],
          "scatter3d": [
           {
            "line": {
             "colorbar": {
              "outlinewidth": 0,
              "ticks": ""
             }
            },
            "marker": {
             "colorbar": {
              "outlinewidth": 0,
              "ticks": ""
             }
            },
            "type": "scatter3d"
           }
          ],
          "scattercarpet": [
           {
            "marker": {
             "colorbar": {
              "outlinewidth": 0,
              "ticks": ""
             }
            },
            "type": "scattercarpet"
           }
          ],
          "scattergeo": [
           {
            "marker": {
             "colorbar": {
              "outlinewidth": 0,
              "ticks": ""
             }
            },
            "type": "scattergeo"
           }
          ],
          "scattergl": [
           {
            "marker": {
             "colorbar": {
              "outlinewidth": 0,
              "ticks": ""
             }
            },
            "type": "scattergl"
           }
          ],
          "scattermapbox": [
           {
            "marker": {
             "colorbar": {
              "outlinewidth": 0,
              "ticks": ""
             }
            },
            "type": "scattermapbox"
           }
          ],
          "scatterpolar": [
           {
            "marker": {
             "colorbar": {
              "outlinewidth": 0,
              "ticks": ""
             }
            },
            "type": "scatterpolar"
           }
          ],
          "scatterpolargl": [
           {
            "marker": {
             "colorbar": {
              "outlinewidth": 0,
              "ticks": ""
             }
            },
            "type": "scatterpolargl"
           }
          ],
          "scatterternary": [
           {
            "marker": {
             "colorbar": {
              "outlinewidth": 0,
              "ticks": ""
             }
            },
            "type": "scatterternary"
           }
          ],
          "surface": [
           {
            "colorbar": {
             "outlinewidth": 0,
             "ticks": ""
            },
            "colorscale": [
             [
              0,
              "#0d0887"
             ],
             [
              0.1111111111111111,
              "#46039f"
             ],
             [
              0.2222222222222222,
              "#7201a8"
             ],
             [
              0.3333333333333333,
              "#9c179e"
             ],
             [
              0.4444444444444444,
              "#bd3786"
             ],
             [
              0.5555555555555556,
              "#d8576b"
             ],
             [
              0.6666666666666666,
              "#ed7953"
             ],
             [
              0.7777777777777778,
              "#fb9f3a"
             ],
             [
              0.8888888888888888,
              "#fdca26"
             ],
             [
              1,
              "#f0f921"
             ]
            ],
            "type": "surface"
           }
          ],
          "table": [
           {
            "cells": {
             "fill": {
              "color": "#EBF0F8"
             },
             "line": {
              "color": "white"
             }
            },
            "header": {
             "fill": {
              "color": "#C8D4E3"
             },
             "line": {
              "color": "white"
             }
            },
            "type": "table"
           }
          ]
         },
         "layout": {
          "annotationdefaults": {
           "arrowcolor": "#2a3f5f",
           "arrowhead": 0,
           "arrowwidth": 1
          },
          "autotypenumbers": "strict",
          "coloraxis": {
           "colorbar": {
            "outlinewidth": 0,
            "ticks": ""
           }
          },
          "colorscale": {
           "diverging": [
            [
             0,
             "#8e0152"
            ],
            [
             0.1,
             "#c51b7d"
            ],
            [
             0.2,
             "#de77ae"
            ],
            [
             0.3,
             "#f1b6da"
            ],
            [
             0.4,
             "#fde0ef"
            ],
            [
             0.5,
             "#f7f7f7"
            ],
            [
             0.6,
             "#e6f5d0"
            ],
            [
             0.7,
             "#b8e186"
            ],
            [
             0.8,
             "#7fbc41"
            ],
            [
             0.9,
             "#4d9221"
            ],
            [
             1,
             "#276419"
            ]
           ],
           "sequential": [
            [
             0,
             "#0d0887"
            ],
            [
             0.1111111111111111,
             "#46039f"
            ],
            [
             0.2222222222222222,
             "#7201a8"
            ],
            [
             0.3333333333333333,
             "#9c179e"
            ],
            [
             0.4444444444444444,
             "#bd3786"
            ],
            [
             0.5555555555555556,
             "#d8576b"
            ],
            [
             0.6666666666666666,
             "#ed7953"
            ],
            [
             0.7777777777777778,
             "#fb9f3a"
            ],
            [
             0.8888888888888888,
             "#fdca26"
            ],
            [
             1,
             "#f0f921"
            ]
           ],
           "sequentialminus": [
            [
             0,
             "#0d0887"
            ],
            [
             0.1111111111111111,
             "#46039f"
            ],
            [
             0.2222222222222222,
             "#7201a8"
            ],
            [
             0.3333333333333333,
             "#9c179e"
            ],
            [
             0.4444444444444444,
             "#bd3786"
            ],
            [
             0.5555555555555556,
             "#d8576b"
            ],
            [
             0.6666666666666666,
             "#ed7953"
            ],
            [
             0.7777777777777778,
             "#fb9f3a"
            ],
            [
             0.8888888888888888,
             "#fdca26"
            ],
            [
             1,
             "#f0f921"
            ]
           ]
          },
          "colorway": [
           "#636efa",
           "#EF553B",
           "#00cc96",
           "#ab63fa",
           "#FFA15A",
           "#19d3f3",
           "#FF6692",
           "#B6E880",
           "#FF97FF",
           "#FECB52"
          ],
          "font": {
           "color": "#2a3f5f"
          },
          "geo": {
           "bgcolor": "white",
           "lakecolor": "white",
           "landcolor": "#E5ECF6",
           "showlakes": true,
           "showland": true,
           "subunitcolor": "white"
          },
          "hoverlabel": {
           "align": "left"
          },
          "hovermode": "closest",
          "mapbox": {
           "style": "light"
          },
          "paper_bgcolor": "white",
          "plot_bgcolor": "#E5ECF6",
          "polar": {
           "angularaxis": {
            "gridcolor": "white",
            "linecolor": "white",
            "ticks": ""
           },
           "bgcolor": "#E5ECF6",
           "radialaxis": {
            "gridcolor": "white",
            "linecolor": "white",
            "ticks": ""
           }
          },
          "scene": {
           "xaxis": {
            "backgroundcolor": "#E5ECF6",
            "gridcolor": "white",
            "gridwidth": 2,
            "linecolor": "white",
            "showbackground": true,
            "ticks": "",
            "zerolinecolor": "white"
           },
           "yaxis": {
            "backgroundcolor": "#E5ECF6",
            "gridcolor": "white",
            "gridwidth": 2,
            "linecolor": "white",
            "showbackground": true,
            "ticks": "",
            "zerolinecolor": "white"
           },
           "zaxis": {
            "backgroundcolor": "#E5ECF6",
            "gridcolor": "white",
            "gridwidth": 2,
            "linecolor": "white",
            "showbackground": true,
            "ticks": "",
            "zerolinecolor": "white"
           }
          },
          "shapedefaults": {
           "line": {
            "color": "#2a3f5f"
           }
          },
          "ternary": {
           "aaxis": {
            "gridcolor": "white",
            "linecolor": "white",
            "ticks": ""
           },
           "baxis": {
            "gridcolor": "white",
            "linecolor": "white",
            "ticks": ""
           },
           "bgcolor": "#E5ECF6",
           "caxis": {
            "gridcolor": "white",
            "linecolor": "white",
            "ticks": ""
           }
          },
          "title": {
           "x": 0.05
          },
          "xaxis": {
           "automargin": true,
           "gridcolor": "white",
           "linecolor": "white",
           "ticks": "",
           "title": {
            "standoff": 15
           },
           "zerolinecolor": "white",
           "zerolinewidth": 2
          },
          "yaxis": {
           "automargin": true,
           "gridcolor": "white",
           "linecolor": "white",
           "ticks": "",
           "title": {
            "standoff": 15
           },
           "zerolinecolor": "white",
           "zerolinewidth": 2
          }
         }
        },
        "title": {
         "text": "Factor Radar Plot for Original Variables Cluster",
         "x": 0.5
        }
       }
      }
     },
     "metadata": {},
     "output_type": "display_data"
    }
   ],
   "source": [
    "import plotly.graph_objects as go\n",
    "\n",
    "categories = factor_score_df.columns\n",
    "\n",
    "fig = go.Figure()\n",
    "\n",
    "fig.add_trace(go.Scatterpolar(\n",
    "    r=group1.iloc[:,-4:].mean(axis=0),\n",
    "    theta=categories,\n",
    "    fill='toself',\n",
    "    name='Group 1'\n",
    "))\n",
    "\n",
    "fig.add_trace(go.Scatterpolar(\n",
    "    r=group2.iloc[:,-4:].mean(axis=0),\n",
    "    theta=categories,\n",
    "    fill='toself',\n",
    "    name='Group 2'\n",
    "))\n",
    "\n",
    "fig.add_trace(go.Scatterpolar(\n",
    "    r=group3.iloc[:,-4:].mean(axis=0),\n",
    "    theta=categories,\n",
    "    fill='toself',\n",
    "    name='Group 3'\n",
    "))\n",
    "\n",
    "fig.add_trace(go.Scatterpolar(\n",
    "    r=group4.iloc[:,-4:].mean(axis=0),\n",
    "    theta=categories,\n",
    "    fill='toself',\n",
    "    name='Group 4'\n",
    "))\n",
    "\n",
    "fig.add_trace(go.Scatterpolar(\n",
    "    r=group5.iloc[:,-4:].mean(axis=0),\n",
    "    theta=categories,\n",
    "    fill='toself',\n",
    "    name='Group 5'\n",
    "))\n",
    "fig.update_layout(\n",
    "    polar=dict(\n",
    "        radialaxis=dict(\n",
    "            visible=True\n",
    "        )),\n",
    "    title=go.layout.Title(text=f\"Factor Radar Plot for Original Variables Cluster\", x=0.5),\n",
    "    showlegend=True\n",
    ")\n",
    "\n",
    "fig.show()"
   ]
  },
  {
   "attachments": {},
   "cell_type": "markdown",
   "id": "2bd0c5cc",
   "metadata": {},
   "source": [
    "### 2 因子分析之后的数据进行聚类"
   ]
  },
  {
   "attachments": {},
   "cell_type": "markdown",
   "id": "2fb7b6aa",
   "metadata": {},
   "source": [
    "### 2.1 用因子值 乘以 得分进行聚类 - `注意：`聚类不能放缩，会导致结果不一样"
   ]
  },
  {
   "cell_type": "code",
   "execution_count": 25,
   "id": "3f607392",
   "metadata": {},
   "outputs": [
    {
     "name": "stdout",
     "output_type": "stream",
     "text": [
      "(240, 4)\n"
     ]
    },
    {
     "data": {
      "text/html": [
       "<div>\n",
       "<style scoped>\n",
       "    .dataframe tbody tr th:only-of-type {\n",
       "        vertical-align: middle;\n",
       "    }\n",
       "\n",
       "    .dataframe tbody tr th {\n",
       "        vertical-align: top;\n",
       "    }\n",
       "\n",
       "    .dataframe thead th {\n",
       "        text-align: right;\n",
       "    }\n",
       "</style>\n",
       "<table border=\"1\" class=\"dataframe\">\n",
       "  <thead>\n",
       "    <tr style=\"text-align: right;\">\n",
       "      <th></th>\n",
       "      <th>International Diversity</th>\n",
       "      <th>Overall Reputation</th>\n",
       "      <th>L/T Environment</th>\n",
       "      <th>Overall Research Level</th>\n",
       "    </tr>\n",
       "  </thead>\n",
       "  <tbody>\n",
       "    <tr>\n",
       "      <th>0</th>\n",
       "      <td>0.971664</td>\n",
       "      <td>1.482326</td>\n",
       "      <td>1.379241</td>\n",
       "      <td>1.302317</td>\n",
       "    </tr>\n",
       "    <tr>\n",
       "      <th>1</th>\n",
       "      <td>1.121766</td>\n",
       "      <td>1.502647</td>\n",
       "      <td>1.360622</td>\n",
       "      <td>0.983572</td>\n",
       "    </tr>\n",
       "    <tr>\n",
       "      <th>2</th>\n",
       "      <td>0.434145</td>\n",
       "      <td>1.410052</td>\n",
       "      <td>1.387437</td>\n",
       "      <td>1.468341</td>\n",
       "    </tr>\n",
       "    <tr>\n",
       "      <th>3</th>\n",
       "      <td>1.150835</td>\n",
       "      <td>1.512964</td>\n",
       "      <td>1.355047</td>\n",
       "      <td>0.887672</td>\n",
       "    </tr>\n",
       "    <tr>\n",
       "      <th>4</th>\n",
       "      <td>0.176792</td>\n",
       "      <td>1.498493</td>\n",
       "      <td>1.367372</td>\n",
       "      <td>1.443616</td>\n",
       "    </tr>\n",
       "  </tbody>\n",
       "</table>\n",
       "</div>"
      ],
      "text/plain": [
       "   International Diversity  Overall Reputation  L/T Environment  \\\n",
       "0                 0.971664            1.482326         1.379241   \n",
       "1                 1.121766            1.502647         1.360622   \n",
       "2                 0.434145            1.410052         1.387437   \n",
       "3                 1.150835            1.512964         1.355047   \n",
       "4                 0.176792            1.498493         1.367372   \n",
       "\n",
       "   Overall Research Level  \n",
       "0                1.302317  \n",
       "1                0.983572  \n",
       "2                1.468341  \n",
       "3                0.887672  \n",
       "4                1.443616  "
      ]
     },
     "execution_count": 25,
     "metadata": {},
     "output_type": "execute_result"
    }
   ],
   "source": [
    "weighted_factor = fa.transform(standardized_df) #* factor_weight\n",
    "weighted_factor_df = pd.DataFrame(weighted_factor,columns=[\"International Diversity\",\"Overall Reputation\",\"L/T Environment\",\"Overall Research Level\"])\n",
    "print(weighted_factor_df.shape)\n",
    "weighted_factor_df.head()"
   ]
  },
  {
   "cell_type": "code",
   "execution_count": 26,
   "id": "44a57bd7",
   "metadata": {},
   "outputs": [
    {
     "name": "stderr",
     "output_type": "stream",
     "text": [
      "c:\\Users\\SouthCat\\anaconda3\\envs\\cs324\\lib\\site-packages\\sklearn\\cluster\\_kmeans.py:1382: UserWarning:\n",
      "\n",
      "KMeans is known to have a memory leak on Windows with MKL, when there are less chunks than available threads. You can avoid it by setting the environment variable OMP_NUM_THREADS=1.\n",
      "\n",
      "c:\\Users\\SouthCat\\anaconda3\\envs\\cs324\\lib\\site-packages\\sklearn\\cluster\\_kmeans.py:1382: UserWarning:\n",
      "\n",
      "KMeans is known to have a memory leak on Windows with MKL, when there are less chunks than available threads. You can avoid it by setting the environment variable OMP_NUM_THREADS=1.\n",
      "\n",
      "c:\\Users\\SouthCat\\anaconda3\\envs\\cs324\\lib\\site-packages\\sklearn\\cluster\\_kmeans.py:1382: UserWarning:\n",
      "\n",
      "KMeans is known to have a memory leak on Windows with MKL, when there are less chunks than available threads. You can avoid it by setting the environment variable OMP_NUM_THREADS=1.\n",
      "\n",
      "c:\\Users\\SouthCat\\anaconda3\\envs\\cs324\\lib\\site-packages\\sklearn\\cluster\\_kmeans.py:1382: UserWarning:\n",
      "\n",
      "KMeans is known to have a memory leak on Windows with MKL, when there are less chunks than available threads. You can avoid it by setting the environment variable OMP_NUM_THREADS=1.\n",
      "\n",
      "c:\\Users\\SouthCat\\anaconda3\\envs\\cs324\\lib\\site-packages\\sklearn\\cluster\\_kmeans.py:1382: UserWarning:\n",
      "\n",
      "KMeans is known to have a memory leak on Windows with MKL, when there are less chunks than available threads. You can avoid it by setting the environment variable OMP_NUM_THREADS=1.\n",
      "\n",
      "c:\\Users\\SouthCat\\anaconda3\\envs\\cs324\\lib\\site-packages\\sklearn\\cluster\\_kmeans.py:1382: UserWarning:\n",
      "\n",
      "KMeans is known to have a memory leak on Windows with MKL, when there are less chunks than available threads. You can avoid it by setting the environment variable OMP_NUM_THREADS=1.\n",
      "\n",
      "c:\\Users\\SouthCat\\anaconda3\\envs\\cs324\\lib\\site-packages\\sklearn\\cluster\\_kmeans.py:1382: UserWarning:\n",
      "\n",
      "KMeans is known to have a memory leak on Windows with MKL, when there are less chunks than available threads. You can avoid it by setting the environment variable OMP_NUM_THREADS=1.\n",
      "\n",
      "c:\\Users\\SouthCat\\anaconda3\\envs\\cs324\\lib\\site-packages\\sklearn\\cluster\\_kmeans.py:1382: UserWarning:\n",
      "\n",
      "KMeans is known to have a memory leak on Windows with MKL, when there are less chunks than available threads. You can avoid it by setting the environment variable OMP_NUM_THREADS=1.\n",
      "\n"
     ]
    },
    {
     "data": {
      "image/png": "[encoded data removed]",
      "text/plain": [
       "<Figure size 640x480 with 1 Axes>"
      ]
     },
     "metadata": {},
     "output_type": "display_data"
    }
   ],
   "source": [
    "from sklearn.cluster import KMeans\n",
    "original_data = data_used.iloc[:,2:]\n",
    "k_values = range(2, 10)\n",
    "sse = []\n",
    "silhouette_scores = []\n",
    "for k in k_values:\n",
    "    kmeans_factor = KMeans(n_clusters=k, random_state=0, n_init=10).fit(weighted_factor_df)\n",
    "    # print(kmeans.inertia_)\n",
    "\n",
    "    # 计算误差平方和\n",
    "    sse.append(kmeans_factor.inertia_)\n",
    "    \n",
    "    # 计算轮廓系数\n",
    "    labels = kmeans_factor.labels_\n",
    "    score = silhouette_score(weighted_factor_df, labels)\n",
    "    silhouette_scores.append(score)\n",
    "# 绘制K值和误差平方和的关系图\n",
    "plt.plot(k_values, sse, 'bx-')\n",
    "plt.xlabel('K')\n",
    "plt.ylabel('SSE')\n",
    "plt.title('Elbow Method')\n",
    "plt.show()"
   ]
  },
  {
   "attachments": {},
   "cell_type": "markdown",
   "id": "47d89b1e",
   "metadata": {},
   "source": [
    "### 2.2 聚类结果"
   ]
  },
  {
   "cell_type": "code",
   "execution_count": 27,
   "id": "df658b49",
   "metadata": {},
   "outputs": [
    {
     "name": "stderr",
     "output_type": "stream",
     "text": [
      "c:\\Users\\SouthCat\\anaconda3\\envs\\cs324\\lib\\site-packages\\sklearn\\cluster\\_kmeans.py:1382: UserWarning:\n",
      "\n",
      "KMeans is known to have a memory leak on Windows with MKL, when there are less chunks than available threads. You can avoid it by setting the environment variable OMP_NUM_THREADS=1.\n",
      "\n"
     ]
    }
   ],
   "source": [
    "kmeans_factor = KMeans(n_clusters=5, random_state=0, n_init=10).fit(weighted_factor_df) "
   ]
  },
  {
   "cell_type": "code",
   "execution_count": 28,
   "id": "7f9e5ee0",
   "metadata": {},
   "outputs": [
    {
     "data": {
      "text/html": [
       "<div>\n",
       "<style scoped>\n",
       "    .dataframe tbody tr th:only-of-type {\n",
       "        vertical-align: middle;\n",
       "    }\n",
       "\n",
       "    .dataframe tbody tr th {\n",
       "        vertical-align: top;\n",
       "    }\n",
       "\n",
       "    .dataframe thead th {\n",
       "        text-align: right;\n",
       "    }\n",
       "</style>\n",
       "<table border=\"1\" class=\"dataframe\">\n",
       "  <thead>\n",
       "    <tr style=\"text-align: right;\">\n",
       "      <th></th>\n",
       "      <th>institution</th>\n",
       "      <th>location</th>\n",
       "      <th>Labels</th>\n",
       "      <th>International Diversity</th>\n",
       "      <th>Overall Reputation</th>\n",
       "      <th>L/T Environment</th>\n",
       "      <th>Overall Research Level</th>\n",
       "    </tr>\n",
       "  </thead>\n",
       "  <tbody>\n",
       "    <tr>\n",
       "      <th>0</th>\n",
       "      <td>Massachusetts Institute of Technology (MIT)</td>\n",
       "      <td>United States</td>\n",
       "      <td>2.0</td>\n",
       "      <td>84.5</td>\n",
       "      <td>95.0</td>\n",
       "      <td>90.6</td>\n",
       "      <td>83.7</td>\n",
       "    </tr>\n",
       "    <tr>\n",
       "      <th>1</th>\n",
       "      <td>University of Cambridge</td>\n",
       "      <td>United Kingdom</td>\n",
       "      <td>2.0</td>\n",
       "      <td>88.8</td>\n",
       "      <td>95.5</td>\n",
       "      <td>90.1</td>\n",
       "      <td>76.2</td>\n",
       "    </tr>\n",
       "    <tr>\n",
       "      <th>2</th>\n",
       "      <td>Stanford University</td>\n",
       "      <td>United States</td>\n",
       "      <td>2.0</td>\n",
       "      <td>69.2</td>\n",
       "      <td>93.3</td>\n",
       "      <td>90.9</td>\n",
       "      <td>87.7</td>\n",
       "    </tr>\n",
       "    <tr>\n",
       "      <th>3</th>\n",
       "      <td>University of Oxford</td>\n",
       "      <td>United Kingdom</td>\n",
       "      <td>2.0</td>\n",
       "      <td>89.6</td>\n",
       "      <td>95.8</td>\n",
       "      <td>89.9</td>\n",
       "      <td>73.9</td>\n",
       "    </tr>\n",
       "    <tr>\n",
       "      <th>4</th>\n",
       "      <td>Harvard University</td>\n",
       "      <td>United States</td>\n",
       "      <td>2.0</td>\n",
       "      <td>61.9</td>\n",
       "      <td>95.4</td>\n",
       "      <td>90.3</td>\n",
       "      <td>87.1</td>\n",
       "    </tr>\n",
       "  </tbody>\n",
       "</table>\n",
       "</div>"
      ],
      "text/plain": [
       "                                    institution        location  Labels  \\\n",
       "0  Massachusetts Institute of Technology (MIT)    United States     2.0   \n",
       "1                       University of Cambridge  United Kingdom     2.0   \n",
       "2                           Stanford University   United States     2.0   \n",
       "3                          University of Oxford  United Kingdom     2.0   \n",
       "4                            Harvard University   United States     2.0   \n",
       "\n",
       "   International Diversity  Overall Reputation  L/T Environment  \\\n",
       "0                     84.5                95.0             90.6   \n",
       "1                     88.8                95.5             90.1   \n",
       "2                     69.2                93.3             90.9   \n",
       "3                     89.6                95.8             89.9   \n",
       "4                     61.9                95.4             90.3   \n",
       "\n",
       "   Overall Research Level  \n",
       "0                    83.7  \n",
       "1                    76.2  \n",
       "2                    87.7  \n",
       "3                    73.9  \n",
       "4                    87.1  "
      ]
     },
     "execution_count": 28,
     "metadata": {},
     "output_type": "execute_result"
    }
   ],
   "source": [
    "labeled_factor_data = pd.concat([original_data.iloc[:,0],data[\"location\"] ,pd.DataFrame(kmeans_factor.labels_, columns=[\"Labels\"]), factor_score_df], axis=1)\n",
    "\n",
    "labeled_factor_data.head()"
   ]
  },
  {
   "cell_type": "code",
   "execution_count": 29,
   "id": "30cd2ceb",
   "metadata": {},
   "outputs": [
    {
     "name": "stdout",
     "output_type": "stream",
     "text": [
      "                                    institution        location  Labels  \\\n",
      "0  Massachusetts Institute of Technology (MIT)    United States     0.0   \n",
      "1                       University of Cambridge  United Kingdom     0.0   \n",
      "2                           Stanford University   United States     0.0   \n",
      "3                          University of Oxford  United Kingdom     0.0   \n",
      "4                            Harvard University   United States     0.0   \n",
      "\n",
      "   International Diversity  Overall Reputation  L/T Environment  \\\n",
      "0                     84.5                95.0             90.6   \n",
      "1                     88.8                95.5             90.1   \n",
      "2                     69.2                93.3             90.9   \n",
      "3                     89.6                95.8             89.9   \n",
      "4                     61.9                95.4             90.3   \n",
      "\n",
      "   Overall Research Level  \n",
      "0                    83.7  \n",
      "1                    76.2  \n",
      "2                    87.7  \n",
      "3                    73.9  \n",
      "4                    87.1  \n"
     ]
    }
   ],
   "source": [
    "factor_labeled = labeled_factor_data.groupby(\"Labels\")\n",
    "factor_group1 = factor_labeled.get_group(0)\n",
    "factor_group2 = factor_labeled.get_group(1)\n",
    "factor_group3 = factor_labeled.get_group(2)\n",
    "factor_group4 = factor_labeled.get_group(3)\n",
    "factor_group5 = factor_labeled.get_group(4)\n",
    "\n",
    "print(group1.head())"
   ]
  },
  {
   "attachments": {},
   "cell_type": "markdown",
   "id": "3fe57935",
   "metadata": {},
   "source": [
    "### 2.2 分类结果检查地域"
   ]
  },
  {
   "cell_type": "code",
   "execution_count": 30,
   "id": "9ae28a14",
   "metadata": {},
   "outputs": [
    {
     "name": "stdout",
     "output_type": "stream",
     "text": [
      "Group1\n",
      "United States       14\n",
      "Germany              4\n",
      "Italy                3\n",
      "Spain                3\n",
      "Taiwan               2\n",
      "Brazil               2\n",
      "China (Mainland)     2\n",
      "India                2\n",
      "France               1\n",
      "Japan                1\n",
      "Belgium              1\n",
      "Netherlands          1\n",
      "Denmark              1\n",
      "Chile                1\n",
      "South Africa         1\n",
      "Name: location, dtype: int64\n",
      "\n",
      "Group2\n",
      "United Kingdom    23\n",
      "Australia         12\n",
      "Netherlands        7\n",
      "Sweden             6\n",
      "Canada             4\n",
      "United States      3\n",
      "New Zealand        2\n",
      "Ireland            2\n",
      "Switzerland        2\n",
      "Germany            2\n",
      "Austria            2\n",
      "Belgium            2\n",
      "Hong Kong SAR      1\n",
      "Saudi Arabia       1\n",
      "Qatar              1\n",
      "Name: location, dtype: int64\n",
      "\n",
      "Group3\n",
      "United States       16\n",
      "United Kingdom       7\n",
      "China (Mainland)     5\n",
      "Hong Kong SAR        3\n",
      "Japan                3\n",
      "Canada               3\n",
      "Switzerland          2\n",
      "Singapore            2\n",
      "France               2\n",
      "South Korea          2\n",
      "Australia            2\n",
      "Name: location, dtype: int64\n",
      "\n",
      "Group4\n",
      "United States           9\n",
      "China (Mainland)        4\n",
      "Switzerland             3\n",
      "Netherlands             3\n",
      "South Korea             2\n",
      "Norway                  2\n",
      "France                  2\n",
      "Saudi Arabia            2\n",
      "Hong Kong SAR           1\n",
      "Denmark                 1\n",
      "Finland                 1\n",
      "India                   1\n",
      "United Arab Emirates    1\n",
      "Australia               1\n",
      "Israel                  1\n",
      "Name: location, dtype: int64\n",
      "\n",
      "Group5\n",
      "Germany          8\n",
      "United States    6\n",
      "Japan            6\n",
      "Malaysia         5\n",
      "South Korea      4\n",
      "Mexico           2\n",
      "Spain            2\n",
      "Taiwan           2\n",
      "Canada           2\n",
      "Indonesia        2\n",
      "Russia           2\n",
      "Denmark          1\n",
      "Chile            1\n",
      "Belgium          1\n",
      "Kazakhstan       1\n",
      "France           1\n",
      "Argentina        1\n",
      "Colombia         1\n",
      "Thailand         1\n",
      "Finland          1\n",
      "Name: location, dtype: int64\n",
      "\n"
     ]
    }
   ],
   "source": [
    "print_state(factor_group1, \"location\", 1)\n",
    "print_state(factor_group2, \"location\", 2)\n",
    "print_state(factor_group3, \"location\", 3)\n",
    "print_state(factor_group4, \"location\", 4)\n",
    "print_state(factor_group5, \"location\", 5)"
   ]
  },
  {
   "attachments": {},
   "cell_type": "markdown",
   "id": "a1ad5cd0",
   "metadata": {},
   "source": [
    "### 2.3 分类结果指标可视化 - 六芒星"
   ]
  },
  {
   "cell_type": "code",
   "execution_count": 31,
   "id": "67d63990",
   "metadata": {},
   "outputs": [
    {
     "data": {
      "application/vnd.plotly.v1+json": {
       "config": {
        "plotlyServerURL": "https://plot.ly"
       },
       "data": [
        {
         "fill": "toself",
         "name": "Group 1",
         "r": [
          -1.0042433739401058,
          0.17042917137873195,
          -1.1047002031506956,
          0.33527335535575586
         ],
         "theta": [
          "International Diversity",
          "Overall Reputation",
          "L/T Environment",
          "Overall Research Level"
         ],
         "type": "scatterpolar"
        },
        {
         "fill": "toself",
         "name": "Group 2",
         "r": [
          0.9197961359722013,
          -0.3446812593464913,
          -0.6476985763778176,
          -0.0757850189006142
         ],
         "theta": [
          "International Diversity",
          "Overall Reputation",
          "L/T Environment",
          "Overall Research Level"
         ],
         "type": "scatterpolar"
        },
        {
         "fill": "toself",
         "name": "Group 3",
         "r": [
          0.32591279505841214,
          1.1868205962682141,
          0.7581909589303412,
          0.756984868455957
         ],
         "theta": [
          "International Diversity",
          "Overall Reputation",
          "L/T Environment",
          "Overall Research Level"
         ],
         "type": "scatterpolar"
        },
        {
         "fill": "toself",
         "name": "Group 4",
         "r": [
          -0.3039066696928723,
          -1.3905057281133142,
          0.8837823762065918,
          0.6003608921519943
         ],
         "theta": [
          "International Diversity",
          "Overall Reputation",
          "L/T Environment",
          "Overall Research Level"
         ],
         "type": "scatterpolar"
        },
        {
         "fill": "toself",
         "name": "Group 5",
         "r": [
          -0.6041062506515531,
          0.17955154403460916,
          0.45477264817148394,
          -1.2752253737285855
         ],
         "theta": [
          "International Diversity",
          "Overall Reputation",
          "L/T Environment",
          "Overall Research Level"
         ],
         "type": "scatterpolar"
        }
       ],
       "layout": {
        "polar": {
         "radialaxis": {
          "visible": true
         }
        },
        "showlegend": true,
        "template": {
         "data": {
          "bar": [
           {
            "error_x": {
             "color": "#2a3f5f"
            },
            "error_y": {
             "color": "#2a3f5f"
            },
            "marker": {
             "line": {
              "color": "#E5ECF6",
              "width": 0.5
             },
             "pattern": {
              "fillmode": "overlay",
              "size": 10,
              "solidity": 0.2
             }
            },
            "type": "bar"
           }
          ],
          "barpolar": [
           {
            "marker": {
             "line": {
              "color": "#E5ECF6",
              "width": 0.5
             },
             "pattern": {
              "fillmode": "overlay",
              "size": 10,
              "solidity": 0.2
             }
            },
            "type": "barpolar"
           }
          ],
          "carpet": [
           {
            "aaxis": {
             "endlinecolor": "#2a3f5f",
             "gridcolor": "white",
             "linecolor": "white",
             "minorgridcolor": "white",
             "startlinecolor": "#2a3f5f"
            },
            "baxis": {
             "endlinecolor": "#2a3f5f",
             "gridcolor": "white",
             "linecolor": "white",
             "minorgridcolor": "white",
             "startlinecolor": "#2a3f5f"
            },
            "type": "carpet"
           }
          ],
          "choropleth": [
           {
            "colorbar": {
             "outlinewidth": 0,
             "ticks": ""
            },
            "type": "choropleth"
           }
          ],
          "contour": [
           {
            "colorbar": {
             "outlinewidth": 0,
             "ticks": ""
            },
            "colorscale": [
             [
              0,
              "#0d0887"
             ],
             [
              0.1111111111111111,
              "#46039f"
             ],
             [
              0.2222222222222222,
              "#7201a8"
             ],
             [
              0.3333333333333333,
              "#9c179e"
             ],
             [
              0.4444444444444444,
              "#bd3786"
             ],
             [
              0.5555555555555556,
              "#d8576b"
             ],
             [
              0.6666666666666666,
              "#ed7953"
             ],
             [
              0.7777777777777778,
              "#fb9f3a"
             ],
             [
              0.8888888888888888,
              "#fdca26"
             ],
             [
              1,
              "#f0f921"
             ]
            ],
            "type": "contour"
           }
          ],
          "contourcarpet": [
           {
            "colorbar": {
             "outlinewidth": 0,
             "ticks": ""
            },
            "type": "contourcarpet"
           }
          ],
          "heatmap": [
           {
            "colorbar": {
             "outlinewidth": 0,
             "ticks": ""
            },
            "colorscale": [
             [
              0,
              "#0d0887"
             ],
             [
              0.1111111111111111,
              "#46039f"
             ],
             [
              0.2222222222222222,
              "#7201a8"
             ],
             [
              0.3333333333333333,
              "#9c179e"
             ],
             [
              0.4444444444444444,
              "#bd3786"
             ],
             [
              0.5555555555555556,
              "#d8576b"
             ],
             [
              0.6666666666666666,
              "#ed7953"
             ],
             [
              0.7777777777777778,
              "#fb9f3a"
             ],
             [
              0.8888888888888888,
              "#fdca26"
             ],
             [
              1,
              "#f0f921"
             ]
            ],
            "type": "heatmap"
           }
          ],
          "heatmapgl": [
           {
            "colorbar": {
             "outlinewidth": 0,
             "ticks": ""
            },
            "colorscale": [
             [
              0,
              "#0d0887"
             ],
             [
              0.1111111111111111,
              "#46039f"
             ],
             [
              0.2222222222222222,
              "#7201a8"
             ],
             [
              0.3333333333333333,
              "#9c179e"
             ],
             [
              0.4444444444444444,
              "#bd3786"
             ],
             [
              0.5555555555555556,
              "#d8576b"
             ],
             [
              0.6666666666666666,
              "#ed7953"
             ],
             [
              0.7777777777777778,
              "#fb9f3a"
             ],
             [
              0.8888888888888888,
              "#fdca26"
             ],
             [
              1,
              "#f0f921"
             ]
            ],
            "type": "heatmapgl"
           }
          ],
          "histogram": [
           {
            "marker": {
             "pattern": {
              "fillmode": "overlay",
              "size": 10,
              "solidity": 0.2
             }
            },
            "type": "histogram"
           }
          ],
          "histogram2d": [
           {
            "colorbar": {
             "outlinewidth": 0,
             "ticks": ""
            },
            "colorscale": [
             [
              0,
              "#0d0887"
             ],
             [
              0.1111111111111111,
              "#46039f"
             ],
             [
              0.2222222222222222,
              "#7201a8"
             ],
             [
              0.3333333333333333,
              "#9c179e"
             ],
             [
              0.4444444444444444,
              "#bd3786"
             ],
             [
              0.5555555555555556,
              "#d8576b"
             ],
             [
              0.6666666666666666,
              "#ed7953"
             ],
             [
              0.7777777777777778,
              "#fb9f3a"
             ],
             [
              0.8888888888888888,
              "#fdca26"
             ],
             [
              1,
              "#f0f921"
             ]
            ],
            "type": "histogram2d"
           }
          ],
          "histogram2dcontour": [
           {
            "colorbar": {
             "outlinewidth": 0,
             "ticks": ""
            },
            "colorscale": [
             [
              0,
              "#0d0887"
             ],
             [
              0.1111111111111111,
              "#46039f"
             ],
             [
              0.2222222222222222,
              "#7201a8"
             ],
             [
              0.3333333333333333,
              "#9c179e"
             ],
             [
              0.4444444444444444,
              "#bd3786"
             ],
             [
              0.5555555555555556,
              "#d8576b"
             ],
             [
              0.6666666666666666,
              "#ed7953"
             ],
             [
              0.7777777777777778,
              "#fb9f3a"
             ],
             [
              0.8888888888888888,
              "#fdca26"
             ],
             [
              1,
              "#f0f921"
             ]
            ],
            "type": "histogram2dcontour"
           }
          ],
          "mesh3d": [
           {
            "colorbar": {
             "outlinewidth": 0,
             "ticks": ""
            },
            "type": "mesh3d"
           }
          ],
          "parcoords": [
           {
            "line": {
             "colorbar": {
              "outlinewidth": 0,
              "ticks": ""
             }
            },
            "type": "parcoords"
           }
          ],
          "pie": [
           {
            "automargin": true,
            "type": "pie"
           }
          ],
          "scatter": [
           {
            "fillpattern": {
             "fillmode": "overlay",
             "size": 10,
             "solidity": 0.2
            },
            "type": "scatter"
           }
          ],
          "scatter3d": [
           {
            "line": {
             "colorbar": {
              "outlinewidth": 0,
              "ticks": ""
             }
            },
            "marker": {
             "colorbar": {
              "outlinewidth": 0,
              "ticks": ""
             }
            },
            "type": "scatter3d"
           }
          ],
          "scattercarpet": [
           {
            "marker": {
             "colorbar": {
              "outlinewidth": 0,
              "ticks": ""
             }
            },
            "type": "scattercarpet"
           }
          ],
          "scattergeo": [
           {
            "marker": {
             "colorbar": {
              "outlinewidth": 0,
              "ticks": ""
             }
            },
            "type": "scattergeo"
           }
          ],
          "scattergl": [
           {
            "marker": {
             "colorbar": {
              "outlinewidth": 0,
              "ticks": ""
             }
            },
            "type": "scattergl"
           }
          ],
          "scattermapbox": [
           {
            "marker": {
             "colorbar": {
              "outlinewidth": 0,
              "ticks": ""
             }
            },
            "type": "scattermapbox"
           }
          ],
          "scatterpolar": [
           {
            "marker": {
             "colorbar": {
              "outlinewidth": 0,
              "ticks": ""
             }
            },
            "type": "scatterpolar"
           }
          ],
          "scatterpolargl": [
           {
            "marker": {
             "colorbar": {
              "outlinewidth": 0,
              "ticks": ""
             }
            },
            "type": "scatterpolargl"
           }
          ],
          "scatterternary": [
           {
            "marker": {
             "colorbar": {
              "outlinewidth": 0,
              "ticks": ""
             }
            },
            "type": "scatterternary"
           }
          ],
          "surface": [
           {
            "colorbar": {
             "outlinewidth": 0,
             "ticks": ""
            },
            "colorscale": [
             [
              0,
              "#0d0887"
             ],
             [
              0.1111111111111111,
              "#46039f"
             ],
             [
              0.2222222222222222,
              "#7201a8"
             ],
             [
              0.3333333333333333,
              "#9c179e"
             ],
             [
              0.4444444444444444,
              "#bd3786"
             ],
             [
              0.5555555555555556,
              "#d8576b"
             ],
             [
              0.6666666666666666,
              "#ed7953"
             ],
             [
              0.7777777777777778,
              "#fb9f3a"
             ],
             [
              0.8888888888888888,
              "#fdca26"
             ],
             [
              1,
              "#f0f921"
             ]
            ],
            "type": "surface"
           }
          ],
          "table": [
           {
            "cells": {
             "fill": {
              "color": "#EBF0F8"
             },
             "line": {
              "color": "white"
             }
            },
            "header": {
             "fill": {
              "color": "#C8D4E3"
             },
             "line": {
              "color": "white"
             }
            },
            "type": "table"
           }
          ]
         },
         "layout": {
          "annotationdefaults": {
           "arrowcolor": "#2a3f5f",
           "arrowhead": 0,
           "arrowwidth": 1
          },
          "autotypenumbers": "strict",
          "coloraxis": {
           "colorbar": {
            "outlinewidth": 0,
            "ticks": ""
           }
          },
          "colorscale": {
           "diverging": [
            [
             0,
             "#8e0152"
            ],
            [
             0.1,
             "#c51b7d"
            ],
            [
             0.2,
             "#de77ae"
            ],
            [
             0.3,
             "#f1b6da"
            ],
            [
             0.4,
             "#fde0ef"
            ],
            [
             0.5,
             "#f7f7f7"
            ],
            [
             0.6,
             "#e6f5d0"
            ],
            [
             0.7,
             "#b8e186"
            ],
            [
             0.8,
             "#7fbc41"
            ],
            [
             0.9,
             "#4d9221"
            ],
            [
             1,
             "#276419"
            ]
           ],
           "sequential": [
            [
             0,
             "#0d0887"
            ],
            [
             0.1111111111111111,
             "#46039f"
            ],
            [
             0.2222222222222222,
             "#7201a8"
            ],
            [
             0.3333333333333333,
             "#9c179e"
            ],
            [
             0.4444444444444444,
             "#bd3786"
            ],
            [
             0.5555555555555556,
             "#d8576b"
            ],
            [
             0.6666666666666666,
             "#ed7953"
            ],
            [
             0.7777777777777778,
             "#fb9f3a"
            ],
            [
             0.8888888888888888,
             "#fdca26"
            ],
            [
             1,
             "#f0f921"
            ]
           ],
           "sequentialminus": [
            [
             0,
             "#0d0887"
            ],
            [
             0.1111111111111111,
             "#46039f"
            ],
            [
             0.2222222222222222,
             "#7201a8"
            ],
            [
             0.3333333333333333,
             "#9c179e"
            ],
            [
             0.4444444444444444,
             "#bd3786"
            ],
            [
             0.5555555555555556,
             "#d8576b"
            ],
            [
             0.6666666666666666,
             "#ed7953"
            ],
            [
             0.7777777777777778,
             "#fb9f3a"
            ],
            [
             0.8888888888888888,
             "#fdca26"
            ],
            [
             1,
             "#f0f921"
            ]
           ]
          },
          "colorway": [
           "#636efa",
           "#EF553B",
           "#00cc96",
           "#ab63fa",
           "#FFA15A",
           "#19d3f3",
           "#FF6692",
           "#B6E880",
           "#FF97FF",
           "#FECB52"
          ],
          "font": {
           "color": "#2a3f5f"
          },
          "geo": {
           "bgcolor": "white",
           "lakecolor": "white",
           "landcolor": "#E5ECF6",
           "showlakes": true,
           "showland": true,
           "subunitcolor": "white"
          },
          "hoverlabel": {
           "align": "left"
          },
          "hovermode": "closest",
          "mapbox": {
           "style": "light"
          },
          "paper_bgcolor": "white",
          "plot_bgcolor": "#E5ECF6",
          "polar": {
           "angularaxis": {
            "gridcolor": "white",
            "linecolor": "white",
            "ticks": ""
           },
           "bgcolor": "#E5ECF6",
           "radialaxis": {
            "gridcolor": "white",
            "linecolor": "white",
            "ticks": ""
           }
          },
          "scene": {
           "xaxis": {
            "backgroundcolor": "#E5ECF6",
            "gridcolor": "white",
            "gridwidth": 2,
            "linecolor": "white",
            "showbackground": true,
            "ticks": "",
            "zerolinecolor": "white"
           },
           "yaxis": {
            "backgroundcolor": "#E5ECF6",
            "gridcolor": "white",
            "gridwidth": 2,
            "linecolor": "white",
            "showbackground": true,
            "ticks": "",
            "zerolinecolor": "white"
           },
           "zaxis": {
            "backgroundcolor": "#E5ECF6",
            "gridcolor": "white",
            "gridwidth": 2,
            "linecolor": "white",
            "showbackground": true,
            "ticks": "",
            "zerolinecolor": "white"
           }
          },
          "shapedefaults": {
           "line": {
            "color": "#2a3f5f"
           }
          },
          "ternary": {
           "aaxis": {
            "gridcolor": "white",
            "linecolor": "white",
            "ticks": ""
           },
           "baxis": {
            "gridcolor": "white",
            "linecolor": "white",
            "ticks": ""
           },
           "bgcolor": "#E5ECF6",
           "caxis": {
            "gridcolor": "white",
            "linecolor": "white",
            "ticks": ""
           }
          },
          "title": {
           "x": 0.05
          },
          "xaxis": {
           "automargin": true,
           "gridcolor": "white",
           "linecolor": "white",
           "ticks": "",
           "title": {
            "standoff": 15
           },
           "zerolinecolor": "white",
           "zerolinewidth": 2
          },
          "yaxis": {
           "automargin": true,
           "gridcolor": "white",
           "linecolor": "white",
           "ticks": "",
           "title": {
            "standoff": 15
           },
           "zerolinecolor": "white",
           "zerolinewidth": 2
          }
         }
        },
        "title": {
         "text": "Radar Plot for Factor Cluster",
         "x": 0.5
        }
       }
      }
     },
     "metadata": {},
     "output_type": "display_data"
    }
   ],
   "source": [
    "import plotly.graph_objects as go\n",
    "\n",
    "categories = ['International Diversity', 'Overall Reputation', 'L/T Environment', 'Overall Research Level']\n",
    "\n",
    "fig = go.Figure()\n",
    "\n",
    "fig.add_trace(go.Scatterpolar(\n",
    "    r=kmeans_factor.cluster_centers_[0],\n",
    "    theta=categories,\n",
    "    fill='toself',\n",
    "    name='Group 1'\n",
    "))\n",
    "\n",
    "fig.add_trace(go.Scatterpolar(\n",
    "    r=kmeans_factor.cluster_centers_[1],\n",
    "    theta=categories,\n",
    "    fill='toself',\n",
    "    name='Group 2'\n",
    "))\n",
    "\n",
    "fig.add_trace(go.Scatterpolar(\n",
    "    r=kmeans_factor.cluster_centers_[2],\n",
    "    theta=categories,\n",
    "    fill='toself',\n",
    "    name='Group 3'\n",
    "))\n",
    "\n",
    "fig.add_trace(go.Scatterpolar(\n",
    "    r=kmeans_factor.cluster_centers_[3],\n",
    "    theta=categories,\n",
    "    fill='toself',\n",
    "    name='Group 4'\n",
    "))\n",
    "\n",
    "fig.add_trace(go.Scatterpolar(\n",
    "    r=kmeans_factor.cluster_centers_[4],\n",
    "    theta=categories,\n",
    "    fill='toself',\n",
    "    name='Group 5'\n",
    "))\n",
    "fig.update_layout(\n",
    "    polar=dict(\n",
    "        radialaxis=dict(\n",
    "            visible=True\n",
    "        )),\n",
    "    title=go.layout.Title(text=f\"Radar Plot for Factor Cluster\", x=0.5),\n",
    "    showlegend=True\n",
    ")\n",
    "\n",
    "fig.show()\n"
   ]
  },
  {
   "cell_type": "code",
   "execution_count": 32,
   "id": "0aafead5",
   "metadata": {},
   "outputs": [
    {
     "data": {
      "text/html": [
       "<div>\n",
       "<style scoped>\n",
       "    .dataframe tbody tr th:only-of-type {\n",
       "        vertical-align: middle;\n",
       "    }\n",
       "\n",
       "    .dataframe tbody tr th {\n",
       "        vertical-align: top;\n",
       "    }\n",
       "\n",
       "    .dataframe thead th {\n",
       "        text-align: right;\n",
       "    }\n",
       "</style>\n",
       "<table border=\"1\" class=\"dataframe\">\n",
       "  <thead>\n",
       "    <tr style=\"text-align: right;\">\n",
       "      <th></th>\n",
       "      <th>institution</th>\n",
       "      <th>location</th>\n",
       "      <th>Labels</th>\n",
       "      <th>International Diversity</th>\n",
       "      <th>Overall Reputation</th>\n",
       "      <th>L/T Environment</th>\n",
       "      <th>Overall Research Level</th>\n",
       "    </tr>\n",
       "  </thead>\n",
       "  <tbody>\n",
       "    <tr>\n",
       "      <th>0</th>\n",
       "      <td>Massachusetts Institute of Technology (MIT)</td>\n",
       "      <td>United States</td>\n",
       "      <td>2.0</td>\n",
       "      <td>84.5</td>\n",
       "      <td>95.0</td>\n",
       "      <td>90.6</td>\n",
       "      <td>83.7</td>\n",
       "    </tr>\n",
       "    <tr>\n",
       "      <th>1</th>\n",
       "      <td>University of Cambridge</td>\n",
       "      <td>United Kingdom</td>\n",
       "      <td>2.0</td>\n",
       "      <td>88.8</td>\n",
       "      <td>95.5</td>\n",
       "      <td>90.1</td>\n",
       "      <td>76.2</td>\n",
       "    </tr>\n",
       "    <tr>\n",
       "      <th>2</th>\n",
       "      <td>Stanford University</td>\n",
       "      <td>United States</td>\n",
       "      <td>2.0</td>\n",
       "      <td>69.2</td>\n",
       "      <td>93.3</td>\n",
       "      <td>90.9</td>\n",
       "      <td>87.7</td>\n",
       "    </tr>\n",
       "    <tr>\n",
       "      <th>3</th>\n",
       "      <td>University of Oxford</td>\n",
       "      <td>United Kingdom</td>\n",
       "      <td>2.0</td>\n",
       "      <td>89.6</td>\n",
       "      <td>95.8</td>\n",
       "      <td>89.9</td>\n",
       "      <td>73.9</td>\n",
       "    </tr>\n",
       "    <tr>\n",
       "      <th>4</th>\n",
       "      <td>Harvard University</td>\n",
       "      <td>United States</td>\n",
       "      <td>2.0</td>\n",
       "      <td>61.9</td>\n",
       "      <td>95.4</td>\n",
       "      <td>90.3</td>\n",
       "      <td>87.1</td>\n",
       "    </tr>\n",
       "    <tr>\n",
       "      <th>5</th>\n",
       "      <td>California Institute of Technology (Caltech)</td>\n",
       "      <td>United States</td>\n",
       "      <td>2.0</td>\n",
       "      <td>81.7</td>\n",
       "      <td>86.9</td>\n",
       "      <td>91.9</td>\n",
       "      <td>85.5</td>\n",
       "    </tr>\n",
       "    <tr>\n",
       "      <th>6</th>\n",
       "      <td>Imperial College London</td>\n",
       "      <td>United Kingdom</td>\n",
       "      <td>2.0</td>\n",
       "      <td>91.6</td>\n",
       "      <td>94.8</td>\n",
       "      <td>89.3</td>\n",
       "      <td>70.4</td>\n",
       "    </tr>\n",
       "    <tr>\n",
       "      <th>7</th>\n",
       "      <td>UCL</td>\n",
       "      <td>United Kingdom</td>\n",
       "      <td>2.0</td>\n",
       "      <td>92.4</td>\n",
       "      <td>95.2</td>\n",
       "      <td>86.9</td>\n",
       "      <td>62.3</td>\n",
       "    </tr>\n",
       "    <tr>\n",
       "      <th>8</th>\n",
       "      <td>ETH Zurich - Swiss Federal Institute of Techno...</td>\n",
       "      <td>Switzerland</td>\n",
       "      <td>2.0</td>\n",
       "      <td>88.7</td>\n",
       "      <td>92.2</td>\n",
       "      <td>66.4</td>\n",
       "      <td>81.5</td>\n",
       "    </tr>\n",
       "    <tr>\n",
       "      <th>9</th>\n",
       "      <td>University of Chicago</td>\n",
       "      <td>United States</td>\n",
       "      <td>2.0</td>\n",
       "      <td>70.3</td>\n",
       "      <td>92.1</td>\n",
       "      <td>83.7</td>\n",
       "      <td>74.8</td>\n",
       "    </tr>\n",
       "    <tr>\n",
       "      <th>10</th>\n",
       "      <td>National University of Singapore (NUS)</td>\n",
       "      <td>Singapore</td>\n",
       "      <td>2.0</td>\n",
       "      <td>77.1</td>\n",
       "      <td>92.3</td>\n",
       "      <td>71.2</td>\n",
       "      <td>78.4</td>\n",
       "    </tr>\n",
       "    <tr>\n",
       "      <th>11</th>\n",
       "      <td>Peking University</td>\n",
       "      <td>China (Mainland)</td>\n",
       "      <td>2.0</td>\n",
       "      <td>37.7</td>\n",
       "      <td>93.9</td>\n",
       "      <td>79.0</td>\n",
       "      <td>88.2</td>\n",
       "    </tr>\n",
       "    <tr>\n",
       "      <th>12</th>\n",
       "      <td>University of Pennsylvania</td>\n",
       "      <td>United States</td>\n",
       "      <td>2.0</td>\n",
       "      <td>74.4</td>\n",
       "      <td>89.0</td>\n",
       "      <td>89.6</td>\n",
       "      <td>62.1</td>\n",
       "    </tr>\n",
       "    <tr>\n",
       "      <th>13</th>\n",
       "      <td>Tsinghua University</td>\n",
       "      <td>China (Mainland)</td>\n",
       "      <td>2.0</td>\n",
       "      <td>12.9</td>\n",
       "      <td>96.3</td>\n",
       "      <td>84.4</td>\n",
       "      <td>91.5</td>\n",
       "    </tr>\n",
       "    <tr>\n",
       "      <th>14</th>\n",
       "      <td>The University of Edinburgh</td>\n",
       "      <td>United Kingdom</td>\n",
       "      <td>2.0</td>\n",
       "      <td>93.1</td>\n",
       "      <td>94.9</td>\n",
       "      <td>70.7</td>\n",
       "      <td>55.5</td>\n",
       "    </tr>\n",
       "    <tr>\n",
       "      <th>15</th>\n",
       "      <td>EPFL</td>\n",
       "      <td>Switzerland</td>\n",
       "      <td>2.0</td>\n",
       "      <td>89.9</td>\n",
       "      <td>74.3</td>\n",
       "      <td>84.9</td>\n",
       "      <td>82.8</td>\n",
       "    </tr>\n",
       "    <tr>\n",
       "      <th>16</th>\n",
       "      <td>Princeton University</td>\n",
       "      <td>United States</td>\n",
       "      <td>2.0</td>\n",
       "      <td>35.8</td>\n",
       "      <td>100.0</td>\n",
       "      <td>64.6</td>\n",
       "      <td>87.0</td>\n",
       "    </tr>\n",
       "    <tr>\n",
       "      <th>17</th>\n",
       "      <td>Yale University</td>\n",
       "      <td>United States</td>\n",
       "      <td>2.0</td>\n",
       "      <td>79.6</td>\n",
       "      <td>95.8</td>\n",
       "      <td>87.6</td>\n",
       "      <td>43.3</td>\n",
       "    </tr>\n",
       "    <tr>\n",
       "      <th>18</th>\n",
       "      <td>Nanyang Technological University, Singapore (NTU)</td>\n",
       "      <td>Singapore</td>\n",
       "      <td>2.0</td>\n",
       "      <td>77.0</td>\n",
       "      <td>78.9</td>\n",
       "      <td>76.5</td>\n",
       "      <td>81.6</td>\n",
       "    </tr>\n",
       "    <tr>\n",
       "      <th>19</th>\n",
       "      <td>Cornell University</td>\n",
       "      <td>United States</td>\n",
       "      <td>2.0</td>\n",
       "      <td>50.0</td>\n",
       "      <td>93.0</td>\n",
       "      <td>55.2</td>\n",
       "      <td>87.1</td>\n",
       "    </tr>\n",
       "    <tr>\n",
       "      <th>20</th>\n",
       "      <td>The University of Hong Kong</td>\n",
       "      <td>Hong Kong SAR</td>\n",
       "      <td>2.0</td>\n",
       "      <td>91.5</td>\n",
       "      <td>78.1</td>\n",
       "      <td>76.6</td>\n",
       "      <td>61.8</td>\n",
       "    </tr>\n",
       "    <tr>\n",
       "      <th>21</th>\n",
       "      <td>Columbia University</td>\n",
       "      <td>United States</td>\n",
       "      <td>2.0</td>\n",
       "      <td>69.5</td>\n",
       "      <td>99.0</td>\n",
       "      <td>87.4</td>\n",
       "      <td>37.8</td>\n",
       "    </tr>\n",
       "    <tr>\n",
       "      <th>22</th>\n",
       "      <td>The University of Tokyo</td>\n",
       "      <td>Japan</td>\n",
       "      <td>2.0</td>\n",
       "      <td>14.4</td>\n",
       "      <td>98.8</td>\n",
       "      <td>81.7</td>\n",
       "      <td>69.5</td>\n",
       "    </tr>\n",
       "    <tr>\n",
       "      <th>23</th>\n",
       "      <td>Johns Hopkins University</td>\n",
       "      <td>United States</td>\n",
       "      <td>2.0</td>\n",
       "      <td>64.4</td>\n",
       "      <td>66.4</td>\n",
       "      <td>94.7</td>\n",
       "      <td>78.7</td>\n",
       "    </tr>\n",
       "    <tr>\n",
       "      <th>24</th>\n",
       "      <td>University of Michigan-Ann Arbor</td>\n",
       "      <td>United States</td>\n",
       "      <td>2.0</td>\n",
       "      <td>46.8</td>\n",
       "      <td>90.2</td>\n",
       "      <td>78.8</td>\n",
       "      <td>59.3</td>\n",
       "    </tr>\n",
       "    <tr>\n",
       "      <th>25</th>\n",
       "      <td>Université PSL</td>\n",
       "      <td>France</td>\n",
       "      <td>2.0</td>\n",
       "      <td>66.4</td>\n",
       "      <td>83.0</td>\n",
       "      <td>90.9</td>\n",
       "      <td>68.8</td>\n",
       "    </tr>\n",
       "    <tr>\n",
       "      <th>26</th>\n",
       "      <td>University of California, Berkeley (UCB)</td>\n",
       "      <td>United States</td>\n",
       "      <td>2.0</td>\n",
       "      <td>65.4</td>\n",
       "      <td>98.2</td>\n",
       "      <td>17.5</td>\n",
       "      <td>84.2</td>\n",
       "    </tr>\n",
       "    <tr>\n",
       "      <th>27</th>\n",
       "      <td>The University of Manchester</td>\n",
       "      <td>United Kingdom</td>\n",
       "      <td>2.0</td>\n",
       "      <td>92.4</td>\n",
       "      <td>95.3</td>\n",
       "      <td>52.7</td>\n",
       "      <td>44.6</td>\n",
       "    </tr>\n",
       "    <tr>\n",
       "      <th>28</th>\n",
       "      <td>Seoul National University</td>\n",
       "      <td>South Korea</td>\n",
       "      <td>2.0</td>\n",
       "      <td>6.8</td>\n",
       "      <td>96.3</td>\n",
       "      <td>77.2</td>\n",
       "      <td>69.0</td>\n",
       "    </tr>\n",
       "    <tr>\n",
       "      <th>29</th>\n",
       "      <td>The Australian National University</td>\n",
       "      <td>Australia</td>\n",
       "      <td>2.0</td>\n",
       "      <td>87.4</td>\n",
       "      <td>81.7</td>\n",
       "      <td>33.4</td>\n",
       "      <td>81.8</td>\n",
       "    </tr>\n",
       "    <tr>\n",
       "      <th>30</th>\n",
       "      <td>McGill University</td>\n",
       "      <td>Canada</td>\n",
       "      <td>2.0</td>\n",
       "      <td>87.3</td>\n",
       "      <td>92.2</td>\n",
       "      <td>58.8</td>\n",
       "      <td>46.4</td>\n",
       "    </tr>\n",
       "    <tr>\n",
       "      <th>31</th>\n",
       "      <td>Northwestern University</td>\n",
       "      <td>United States</td>\n",
       "      <td>2.0</td>\n",
       "      <td>32.7</td>\n",
       "      <td>75.4</td>\n",
       "      <td>91.4</td>\n",
       "      <td>79.0</td>\n",
       "    </tr>\n",
       "    <tr>\n",
       "      <th>32</th>\n",
       "      <td>The University of Melbourne</td>\n",
       "      <td>Australia</td>\n",
       "      <td>2.0</td>\n",
       "      <td>87.5</td>\n",
       "      <td>98.0</td>\n",
       "      <td>11.5</td>\n",
       "      <td>74.3</td>\n",
       "    </tr>\n",
       "    <tr>\n",
       "      <th>33</th>\n",
       "      <td>Fudan University</td>\n",
       "      <td>China (Mainland)</td>\n",
       "      <td>2.0</td>\n",
       "      <td>58.3</td>\n",
       "      <td>82.2</td>\n",
       "      <td>80.1</td>\n",
       "      <td>63.4</td>\n",
       "    </tr>\n",
       "    <tr>\n",
       "      <th>34</th>\n",
       "      <td>University of Toronto</td>\n",
       "      <td>Canada</td>\n",
       "      <td>2.0</td>\n",
       "      <td>93.3</td>\n",
       "      <td>97.6</td>\n",
       "      <td>53.9</td>\n",
       "      <td>32.1</td>\n",
       "    </tr>\n",
       "    <tr>\n",
       "      <th>35</th>\n",
       "      <td>Kyoto University</td>\n",
       "      <td>Japan</td>\n",
       "      <td>2.0</td>\n",
       "      <td>16.3</td>\n",
       "      <td>97.1</td>\n",
       "      <td>83.4</td>\n",
       "      <td>53.6</td>\n",
       "    </tr>\n",
       "    <tr>\n",
       "      <th>36</th>\n",
       "      <td>King's College London</td>\n",
       "      <td>United Kingdom</td>\n",
       "      <td>2.0</td>\n",
       "      <td>94.7</td>\n",
       "      <td>84.1</td>\n",
       "      <td>65.2</td>\n",
       "      <td>47.3</td>\n",
       "    </tr>\n",
       "    <tr>\n",
       "      <th>37</th>\n",
       "      <td>The Chinese University of Hong Kong (CUHK)</td>\n",
       "      <td>Hong Kong SAR</td>\n",
       "      <td>2.0</td>\n",
       "      <td>84.9</td>\n",
       "      <td>67.1</td>\n",
       "      <td>57.1</td>\n",
       "      <td>79.8</td>\n",
       "    </tr>\n",
       "    <tr>\n",
       "      <th>39</th>\n",
       "      <td>The Hong Kong University of Science and Techno...</td>\n",
       "      <td>Hong Kong SAR</td>\n",
       "      <td>2.0</td>\n",
       "      <td>83.2</td>\n",
       "      <td>64.2</td>\n",
       "      <td>59.3</td>\n",
       "      <td>84.6</td>\n",
       "    </tr>\n",
       "    <tr>\n",
       "      <th>41</th>\n",
       "      <td>KAIST - Korea Advanced Institute of Science &amp; ...</td>\n",
       "      <td>South Korea</td>\n",
       "      <td>2.0</td>\n",
       "      <td>9.6</td>\n",
       "      <td>85.1</td>\n",
       "      <td>62.9</td>\n",
       "      <td>91.8</td>\n",
       "    </tr>\n",
       "    <tr>\n",
       "      <th>42</th>\n",
       "      <td>Zhejiang University</td>\n",
       "      <td>China (Mainland)</td>\n",
       "      <td>2.0</td>\n",
       "      <td>63.4</td>\n",
       "      <td>76.8</td>\n",
       "      <td>71.3</td>\n",
       "      <td>76.5</td>\n",
       "    </tr>\n",
       "    <tr>\n",
       "      <th>45</th>\n",
       "      <td>Shanghai Jiao Tong University</td>\n",
       "      <td>China (Mainland)</td>\n",
       "      <td>2.0</td>\n",
       "      <td>32.1</td>\n",
       "      <td>85.2</td>\n",
       "      <td>51.7</td>\n",
       "      <td>85.9</td>\n",
       "    </tr>\n",
       "    <tr>\n",
       "      <th>46</th>\n",
       "      <td>University of British Columbia</td>\n",
       "      <td>Canada</td>\n",
       "      <td>2.0</td>\n",
       "      <td>79.8</td>\n",
       "      <td>95.2</td>\n",
       "      <td>45.5</td>\n",
       "      <td>33.5</td>\n",
       "    </tr>\n",
       "    <tr>\n",
       "      <th>47</th>\n",
       "      <td>Institut Polytechnique de Paris</td>\n",
       "      <td>France</td>\n",
       "      <td>2.0</td>\n",
       "      <td>92.3</td>\n",
       "      <td>66.7</td>\n",
       "      <td>91.6</td>\n",
       "      <td>71.6</td>\n",
       "    </tr>\n",
       "    <tr>\n",
       "      <th>51</th>\n",
       "      <td>Carnegie Mellon University</td>\n",
       "      <td>United States</td>\n",
       "      <td>2.0</td>\n",
       "      <td>60.4</td>\n",
       "      <td>73.3</td>\n",
       "      <td>54.5</td>\n",
       "      <td>81.8</td>\n",
       "    </tr>\n",
       "    <tr>\n",
       "      <th>52</th>\n",
       "      <td>University of California, San Diego (UCSD)</td>\n",
       "      <td>United States</td>\n",
       "      <td>2.0</td>\n",
       "      <td>47.4</td>\n",
       "      <td>76.0</td>\n",
       "      <td>50.2</td>\n",
       "      <td>70.1</td>\n",
       "    </tr>\n",
       "    <tr>\n",
       "      <th>54</th>\n",
       "      <td>Tokyo Institute of Technology (Tokyo Tech)</td>\n",
       "      <td>Japan</td>\n",
       "      <td>2.0</td>\n",
       "      <td>34.4</td>\n",
       "      <td>81.6</td>\n",
       "      <td>72.7</td>\n",
       "      <td>58.8</td>\n",
       "    </tr>\n",
       "  </tbody>\n",
       "</table>\n",
       "</div>"
      ],
      "text/plain": [
       "                                          institution          location  \\\n",
       "0        Massachusetts Institute of Technology (MIT)      United States   \n",
       "1                             University of Cambridge    United Kingdom   \n",
       "2                                 Stanford University     United States   \n",
       "3                                University of Oxford    United Kingdom   \n",
       "4                                  Harvard University     United States   \n",
       "5        California Institute of Technology (Caltech)     United States   \n",
       "6                             Imperial College London    United Kingdom   \n",
       "7                                                 UCL    United Kingdom   \n",
       "8   ETH Zurich - Swiss Federal Institute of Techno...       Switzerland   \n",
       "9                               University of Chicago     United States   \n",
       "10             National University of Singapore (NUS)         Singapore   \n",
       "11                                  Peking University  China (Mainland)   \n",
       "12                         University of Pennsylvania     United States   \n",
       "13                                Tsinghua University  China (Mainland)   \n",
       "14                        The University of Edinburgh    United Kingdom   \n",
       "15                                               EPFL       Switzerland   \n",
       "16                               Princeton University     United States   \n",
       "17                                    Yale University     United States   \n",
       "18  Nanyang Technological University, Singapore (NTU)         Singapore   \n",
       "19                                 Cornell University     United States   \n",
       "20                        The University of Hong Kong     Hong Kong SAR   \n",
       "21                                Columbia University     United States   \n",
       "22                            The University of Tokyo             Japan   \n",
       "23                           Johns Hopkins University     United States   \n",
       "24                   University of Michigan-Ann Arbor     United States   \n",
       "25                                     Université PSL            France   \n",
       "26           University of California, Berkeley (UCB)     United States   \n",
       "27                       The University of Manchester    United Kingdom   \n",
       "28                          Seoul National University       South Korea   \n",
       "29                 The Australian National University         Australia   \n",
       "30                                  McGill University            Canada   \n",
       "31                            Northwestern University     United States   \n",
       "32                        The University of Melbourne         Australia   \n",
       "33                                   Fudan University  China (Mainland)   \n",
       "34                              University of Toronto            Canada   \n",
       "35                                   Kyoto University             Japan   \n",
       "36                              King's College London    United Kingdom   \n",
       "37         The Chinese University of Hong Kong (CUHK)     Hong Kong SAR   \n",
       "39  The Hong Kong University of Science and Techno...     Hong Kong SAR   \n",
       "41  KAIST - Korea Advanced Institute of Science & ...       South Korea   \n",
       "42                                Zhejiang University  China (Mainland)   \n",
       "45                      Shanghai Jiao Tong University  China (Mainland)   \n",
       "46                     University of British Columbia            Canada   \n",
       "47                    Institut Polytechnique de Paris            France   \n",
       "51                         Carnegie Mellon University     United States   \n",
       "52         University of California, San Diego (UCSD)     United States   \n",
       "54         Tokyo Institute of Technology (Tokyo Tech)             Japan   \n",
       "\n",
       "    Labels  International Diversity  Overall Reputation  L/T Environment  \\\n",
       "0      2.0                     84.5                95.0             90.6   \n",
       "1      2.0                     88.8                95.5             90.1   \n",
       "2      2.0                     69.2                93.3             90.9   \n",
       "3      2.0                     89.6                95.8             89.9   \n",
       "4      2.0                     61.9                95.4             90.3   \n",
       "5      2.0                     81.7                86.9             91.9   \n",
       "6      2.0                     91.6                94.8             89.3   \n",
       "7      2.0                     92.4                95.2             86.9   \n",
       "8      2.0                     88.7                92.2             66.4   \n",
       "9      2.0                     70.3                92.1             83.7   \n",
       "10     2.0                     77.1                92.3             71.2   \n",
       "11     2.0                     37.7                93.9             79.0   \n",
       "12     2.0                     74.4                89.0             89.6   \n",
       "13     2.0                     12.9                96.3             84.4   \n",
       "14     2.0                     93.1                94.9             70.7   \n",
       "15     2.0                     89.9                74.3             84.9   \n",
       "16     2.0                     35.8               100.0             64.6   \n",
       "17     2.0                     79.6                95.8             87.6   \n",
       "18     2.0                     77.0                78.9             76.5   \n",
       "19     2.0                     50.0                93.0             55.2   \n",
       "20     2.0                     91.5                78.1             76.6   \n",
       "21     2.0                     69.5                99.0             87.4   \n",
       "22     2.0                     14.4                98.8             81.7   \n",
       "23     2.0                     64.4                66.4             94.7   \n",
       "24     2.0                     46.8                90.2             78.8   \n",
       "25     2.0                     66.4                83.0             90.9   \n",
       "26     2.0                     65.4                98.2             17.5   \n",
       "27     2.0                     92.4                95.3             52.7   \n",
       "28     2.0                      6.8                96.3             77.2   \n",
       "29     2.0                     87.4                81.7             33.4   \n",
       "30     2.0                     87.3                92.2             58.8   \n",
       "31     2.0                     32.7                75.4             91.4   \n",
       "32     2.0                     87.5                98.0             11.5   \n",
       "33     2.0                     58.3                82.2             80.1   \n",
       "34     2.0                     93.3                97.6             53.9   \n",
       "35     2.0                     16.3                97.1             83.4   \n",
       "36     2.0                     94.7                84.1             65.2   \n",
       "37     2.0                     84.9                67.1             57.1   \n",
       "39     2.0                     83.2                64.2             59.3   \n",
       "41     2.0                      9.6                85.1             62.9   \n",
       "42     2.0                     63.4                76.8             71.3   \n",
       "45     2.0                     32.1                85.2             51.7   \n",
       "46     2.0                     79.8                95.2             45.5   \n",
       "47     2.0                     92.3                66.7             91.6   \n",
       "51     2.0                     60.4                73.3             54.5   \n",
       "52     2.0                     47.4                76.0             50.2   \n",
       "54     2.0                     34.4                81.6             72.7   \n",
       "\n",
       "    Overall Research Level  \n",
       "0                     83.7  \n",
       "1                     76.2  \n",
       "2                     87.7  \n",
       "3                     73.9  \n",
       "4                     87.1  \n",
       "5                     85.5  \n",
       "6                     70.4  \n",
       "7                     62.3  \n",
       "8                     81.5  \n",
       "9                     74.8  \n",
       "10                    78.4  \n",
       "11                    88.2  \n",
       "12                    62.1  \n",
       "13                    91.5  \n",
       "14                    55.5  \n",
       "15                    82.8  \n",
       "16                    87.0  \n",
       "17                    43.3  \n",
       "18                    81.6  \n",
       "19                    87.1  \n",
       "20                    61.8  \n",
       "21                    37.8  \n",
       "22                    69.5  \n",
       "23                    78.7  \n",
       "24                    59.3  \n",
       "25                    68.8  \n",
       "26                    84.2  \n",
       "27                    44.6  \n",
       "28                    69.0  \n",
       "29                    81.8  \n",
       "30                    46.4  \n",
       "31                    79.0  \n",
       "32                    74.3  \n",
       "33                    63.4  \n",
       "34                    32.1  \n",
       "35                    53.6  \n",
       "36                    47.3  \n",
       "37                    79.8  \n",
       "39                    84.6  \n",
       "41                    91.8  \n",
       "42                    76.5  \n",
       "45                    85.9  \n",
       "46                    33.5  \n",
       "47                    71.6  \n",
       "51                    81.8  \n",
       "52                    70.1  \n",
       "54                    58.8  "
      ]
     },
     "execution_count": 32,
     "metadata": {},
     "output_type": "execute_result"
    }
   ],
   "source": [
    "factor_group3"
   ]
  }
 ],
 "metadata": {
  "kernelspec": {
   "display_name": "Python 3 (ipykernel)",
   "language": "python",
   "name": "python3"
  },
  "language_info": {
   "codemirror_mode": {
    "name": "ipython",
    "version": 3
   },
   "file_extension": ".py",
   "mimetype": "text/x-python",
   "name": "python",
   "nbconvert_exporter": "python",
   "pygments_lexer": "ipython3",
   "version": "3.9.16"
  }
 },
 "nbformat": 4,
 "nbformat_minor": 5
}
